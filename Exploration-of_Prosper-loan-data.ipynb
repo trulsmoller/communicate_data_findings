{
 "cells": [
  {
   "cell_type": "markdown",
   "metadata": {},
   "source": [
    "# Exploration of Prosper Loan Data\n",
    "## by Truls Møller\n",
    "\n",
    "## Introduction\n",
    "\n",
    "The Prosper Loan dataset is a file on 113,937 personal loans that were originated between 2005 and 2014.\n",
    "\n",
    "My analysis will focus on:\n",
    "- **High-level overview** of the data.\n",
    "- **Variables that seem (at least to me) relevant to decisions by the Lender _at the time a new loan gets originated_**, with the help of univariate plots to answer any questions that may arise.\n",
    "- **Interaction between the variables** with the help of bivariate and multivariate plots to answer any questions that may arise on the interactions.\n",
    "\n",
    "My analysis will _not_ focus on:\n",
    "- Variables that become relevant in case of payment problems - defaulted and chargedoff loans - variables such as credit lines, recovery payments.\n",
    "\n",
    "Here is a breakdown of the relevant variables in three categories.\n",
    "\n",
    "1) BASIC LOAN DATA\n",
    "- ListingCategory (numeric) : The category of listing. 20 categories from Debt Consolidation to Wedding Loans denoted with a number in the range 0-20 without any description.\n",
    "- **ListingCategory** The category of listing. 20 categories from Debt Consolidation to Wedding Loans denoted with a number in the range 0-20 _with_ description.\n",
    "- **LoanOriginationDate**: The date the loan was originated.\n",
    "- **LoanOriginalAmount** : The origination amount of the loan.\n",
    "- **BorrowerAPR**: The Borrower’s Annual Percentage Rate for the loan. (Yearly interest rate)\n",
    "- **Term**: The duration of the loan in months (Three different durations found: 12, 36, 60 months, ie. 1, 3, 5 years)\n",
    "- **Loan Status**: The current status of the loan: Cancelled, Chargedoff, Completed, Current, Defaulted, FinalPaymentInProgress, PastDue. The PastDue status will be accompanied by a time range on how long it is past due.\n",
    "\n",
    "2) CREDIT GRADES / PROSPER RATINGS DATA\n",
    "- CreditGrade : The Credit rating that was assigned at the time the listing went live. Used for listings pre-2009 only.\n",
    "- ProsperRating (Alpha) : The Prosper Rating assigned at the time the listing was created, between AA - HR. Used for listings post-2008 only, hence complementary to CreditGrade.\n",
    "- **ProsperRating** : Added column. It is the same as 'ProsperRating (Alpha)' only the missing data are populated from CreditGrade. This provides a nice continuity over time.\n",
    "\n",
    "3) DATA THAT MIGHT HAVE AFFECTED CREDIT GRADES / PROSPER RATINGS\n",
    "- **EmploymentStatus** Whether the borrower is employed, full-time, part-time, retired etc.\n",
    "- **IncomeRange** : The income range of the borrower at the time the listing was created.\n",
    "- **Borrower State** Two letter abbreviation of the state of the address of the borrower at the time of listing.\n",
    "- **IsBorrowerHomeowner** True or False.\n",
    "- **OnTimeProsperPayments** : Number of past on time payments (less that one month late) at the time of listing. Null if there are no prior loan history.\n",
    "- **Recommendations** : Number of recommendations the borrower had at the time of listing.\n",
    "\n",
    "All these variables will be used in our analysis, but only the ones in **bold** will be used explicitly."
   ]
  },
  {
   "cell_type": "markdown",
   "metadata": {},
   "source": [
    "## Preliminary Wrangling"
   ]
  },
  {
   "cell_type": "code",
   "execution_count": 1,
   "metadata": {},
   "outputs": [],
   "source": [
    "# import all packages, set plots to be embedded inline and set max display metrics\n",
    "import numpy as np\n",
    "import pandas as pd\n",
    "import matplotlib.pyplot as plt\n",
    "import seaborn as sb\n",
    "\n",
    "%matplotlib inline\n",
    "\n",
    "pd.set_option('display.max_columns', 100)\n",
    "pd.set_option('display.max_rows', 100)"
   ]
  },
  {
   "cell_type": "markdown",
   "metadata": {},
   "source": [
    "Loading the dataset:"
   ]
  },
  {
   "cell_type": "code",
   "execution_count": 2,
   "metadata": {},
   "outputs": [
    {
     "data": {
      "text/html": [
       "<div>\n",
       "<style scoped>\n",
       "    .dataframe tbody tr th:only-of-type {\n",
       "        vertical-align: middle;\n",
       "    }\n",
       "\n",
       "    .dataframe tbody tr th {\n",
       "        vertical-align: top;\n",
       "    }\n",
       "\n",
       "    .dataframe thead th {\n",
       "        text-align: right;\n",
       "    }\n",
       "</style>\n",
       "<table border=\"1\" class=\"dataframe\">\n",
       "  <thead>\n",
       "    <tr style=\"text-align: right;\">\n",
       "      <th></th>\n",
       "      <th>ListingKey</th>\n",
       "      <th>ListingNumber</th>\n",
       "      <th>ListingCreationDate</th>\n",
       "      <th>CreditGrade</th>\n",
       "      <th>Term</th>\n",
       "      <th>LoanStatus</th>\n",
       "      <th>ClosedDate</th>\n",
       "      <th>BorrowerAPR</th>\n",
       "      <th>BorrowerRate</th>\n",
       "      <th>LenderYield</th>\n",
       "      <th>EstimatedEffectiveYield</th>\n",
       "      <th>EstimatedLoss</th>\n",
       "      <th>EstimatedReturn</th>\n",
       "      <th>ProsperRating (numeric)</th>\n",
       "      <th>ProsperRating (Alpha)</th>\n",
       "      <th>ProsperScore</th>\n",
       "      <th>ListingCategory (numeric)</th>\n",
       "      <th>BorrowerState</th>\n",
       "      <th>Occupation</th>\n",
       "      <th>EmploymentStatus</th>\n",
       "      <th>EmploymentStatusDuration</th>\n",
       "      <th>IsBorrowerHomeowner</th>\n",
       "      <th>CurrentlyInGroup</th>\n",
       "      <th>GroupKey</th>\n",
       "      <th>DateCreditPulled</th>\n",
       "      <th>CreditScoreRangeLower</th>\n",
       "      <th>CreditScoreRangeUpper</th>\n",
       "      <th>FirstRecordedCreditLine</th>\n",
       "      <th>CurrentCreditLines</th>\n",
       "      <th>OpenCreditLines</th>\n",
       "      <th>TotalCreditLinespast7years</th>\n",
       "      <th>OpenRevolvingAccounts</th>\n",
       "      <th>OpenRevolvingMonthlyPayment</th>\n",
       "      <th>InquiriesLast6Months</th>\n",
       "      <th>TotalInquiries</th>\n",
       "      <th>CurrentDelinquencies</th>\n",
       "      <th>AmountDelinquent</th>\n",
       "      <th>DelinquenciesLast7Years</th>\n",
       "      <th>PublicRecordsLast10Years</th>\n",
       "      <th>PublicRecordsLast12Months</th>\n",
       "      <th>RevolvingCreditBalance</th>\n",
       "      <th>BankcardUtilization</th>\n",
       "      <th>AvailableBankcardCredit</th>\n",
       "      <th>TotalTrades</th>\n",
       "      <th>TradesNeverDelinquent (percentage)</th>\n",
       "      <th>TradesOpenedLast6Months</th>\n",
       "      <th>DebtToIncomeRatio</th>\n",
       "      <th>IncomeRange</th>\n",
       "      <th>IncomeVerifiable</th>\n",
       "      <th>StatedMonthlyIncome</th>\n",
       "      <th>LoanKey</th>\n",
       "      <th>TotalProsperLoans</th>\n",
       "      <th>TotalProsperPaymentsBilled</th>\n",
       "      <th>OnTimeProsperPayments</th>\n",
       "      <th>ProsperPaymentsLessThanOneMonthLate</th>\n",
       "      <th>ProsperPaymentsOneMonthPlusLate</th>\n",
       "      <th>ProsperPrincipalBorrowed</th>\n",
       "      <th>ProsperPrincipalOutstanding</th>\n",
       "      <th>ScorexChangeAtTimeOfListing</th>\n",
       "      <th>LoanCurrentDaysDelinquent</th>\n",
       "      <th>LoanFirstDefaultedCycleNumber</th>\n",
       "      <th>LoanMonthsSinceOrigination</th>\n",
       "      <th>LoanNumber</th>\n",
       "      <th>LoanOriginalAmount</th>\n",
       "      <th>LoanOriginationDate</th>\n",
       "      <th>LoanOriginationQuarter</th>\n",
       "      <th>MemberKey</th>\n",
       "      <th>MonthlyLoanPayment</th>\n",
       "      <th>LP_CustomerPayments</th>\n",
       "      <th>LP_CustomerPrincipalPayments</th>\n",
       "      <th>LP_InterestandFees</th>\n",
       "      <th>LP_ServiceFees</th>\n",
       "      <th>LP_CollectionFees</th>\n",
       "      <th>LP_GrossPrincipalLoss</th>\n",
       "      <th>LP_NetPrincipalLoss</th>\n",
       "      <th>LP_NonPrincipalRecoverypayments</th>\n",
       "      <th>PercentFunded</th>\n",
       "      <th>Recommendations</th>\n",
       "      <th>InvestmentFromFriendsCount</th>\n",
       "      <th>InvestmentFromFriendsAmount</th>\n",
       "      <th>Investors</th>\n",
       "    </tr>\n",
       "  </thead>\n",
       "  <tbody>\n",
       "    <tr>\n",
       "      <th>0</th>\n",
       "      <td>1021339766868145413AB3B</td>\n",
       "      <td>193129</td>\n",
       "      <td>2007-08-26 19:09:29.263000000</td>\n",
       "      <td>C</td>\n",
       "      <td>36</td>\n",
       "      <td>Completed</td>\n",
       "      <td>2009-08-14 00:00:00</td>\n",
       "      <td>0.16516</td>\n",
       "      <td>0.1580</td>\n",
       "      <td>0.1380</td>\n",
       "      <td>NaN</td>\n",
       "      <td>NaN</td>\n",
       "      <td>NaN</td>\n",
       "      <td>NaN</td>\n",
       "      <td>NaN</td>\n",
       "      <td>NaN</td>\n",
       "      <td>0</td>\n",
       "      <td>CO</td>\n",
       "      <td>Other</td>\n",
       "      <td>Self-employed</td>\n",
       "      <td>2.0</td>\n",
       "      <td>True</td>\n",
       "      <td>True</td>\n",
       "      <td>NaN</td>\n",
       "      <td>2007-08-26 18:41:46.780000000</td>\n",
       "      <td>640.0</td>\n",
       "      <td>659.0</td>\n",
       "      <td>2001-10-11 00:00:00</td>\n",
       "      <td>5.0</td>\n",
       "      <td>4.0</td>\n",
       "      <td>12.0</td>\n",
       "      <td>1</td>\n",
       "      <td>24.0</td>\n",
       "      <td>3.0</td>\n",
       "      <td>3.0</td>\n",
       "      <td>2.0</td>\n",
       "      <td>472.0</td>\n",
       "      <td>4.0</td>\n",
       "      <td>0.0</td>\n",
       "      <td>0.0</td>\n",
       "      <td>0.0</td>\n",
       "      <td>0.00</td>\n",
       "      <td>1500.0</td>\n",
       "      <td>11.0</td>\n",
       "      <td>0.81</td>\n",
       "      <td>0.0</td>\n",
       "      <td>0.17</td>\n",
       "      <td>$25,000-49,999</td>\n",
       "      <td>True</td>\n",
       "      <td>3083.333333</td>\n",
       "      <td>E33A3400205839220442E84</td>\n",
       "      <td>NaN</td>\n",
       "      <td>NaN</td>\n",
       "      <td>NaN</td>\n",
       "      <td>NaN</td>\n",
       "      <td>NaN</td>\n",
       "      <td>NaN</td>\n",
       "      <td>NaN</td>\n",
       "      <td>NaN</td>\n",
       "      <td>0</td>\n",
       "      <td>NaN</td>\n",
       "      <td>78</td>\n",
       "      <td>19141</td>\n",
       "      <td>9425</td>\n",
       "      <td>2007-09-12 00:00:00</td>\n",
       "      <td>Q3 2007</td>\n",
       "      <td>1F3E3376408759268057EDA</td>\n",
       "      <td>330.43</td>\n",
       "      <td>11396.14</td>\n",
       "      <td>9425.00</td>\n",
       "      <td>1971.14</td>\n",
       "      <td>-133.18</td>\n",
       "      <td>0.0</td>\n",
       "      <td>0.0</td>\n",
       "      <td>0.0</td>\n",
       "      <td>0.0</td>\n",
       "      <td>1.0</td>\n",
       "      <td>0</td>\n",
       "      <td>0</td>\n",
       "      <td>0.0</td>\n",
       "      <td>258</td>\n",
       "    </tr>\n",
       "    <tr>\n",
       "      <th>1</th>\n",
       "      <td>10273602499503308B223C1</td>\n",
       "      <td>1209647</td>\n",
       "      <td>2014-02-27 08:28:07.900000000</td>\n",
       "      <td>NaN</td>\n",
       "      <td>36</td>\n",
       "      <td>Current</td>\n",
       "      <td>NaN</td>\n",
       "      <td>0.12016</td>\n",
       "      <td>0.0920</td>\n",
       "      <td>0.0820</td>\n",
       "      <td>0.07960</td>\n",
       "      <td>0.0249</td>\n",
       "      <td>0.05470</td>\n",
       "      <td>6.0</td>\n",
       "      <td>A</td>\n",
       "      <td>7.0</td>\n",
       "      <td>2</td>\n",
       "      <td>CO</td>\n",
       "      <td>Professional</td>\n",
       "      <td>Employed</td>\n",
       "      <td>44.0</td>\n",
       "      <td>False</td>\n",
       "      <td>False</td>\n",
       "      <td>NaN</td>\n",
       "      <td>2014-02-27 08:28:14</td>\n",
       "      <td>680.0</td>\n",
       "      <td>699.0</td>\n",
       "      <td>1996-03-18 00:00:00</td>\n",
       "      <td>14.0</td>\n",
       "      <td>14.0</td>\n",
       "      <td>29.0</td>\n",
       "      <td>13</td>\n",
       "      <td>389.0</td>\n",
       "      <td>3.0</td>\n",
       "      <td>5.0</td>\n",
       "      <td>0.0</td>\n",
       "      <td>0.0</td>\n",
       "      <td>0.0</td>\n",
       "      <td>1.0</td>\n",
       "      <td>0.0</td>\n",
       "      <td>3989.0</td>\n",
       "      <td>0.21</td>\n",
       "      <td>10266.0</td>\n",
       "      <td>29.0</td>\n",
       "      <td>1.00</td>\n",
       "      <td>2.0</td>\n",
       "      <td>0.18</td>\n",
       "      <td>$50,000-74,999</td>\n",
       "      <td>True</td>\n",
       "      <td>6125.000000</td>\n",
       "      <td>9E3B37071505919926B1D82</td>\n",
       "      <td>NaN</td>\n",
       "      <td>NaN</td>\n",
       "      <td>NaN</td>\n",
       "      <td>NaN</td>\n",
       "      <td>NaN</td>\n",
       "      <td>NaN</td>\n",
       "      <td>NaN</td>\n",
       "      <td>NaN</td>\n",
       "      <td>0</td>\n",
       "      <td>NaN</td>\n",
       "      <td>0</td>\n",
       "      <td>134815</td>\n",
       "      <td>10000</td>\n",
       "      <td>2014-03-03 00:00:00</td>\n",
       "      <td>Q1 2014</td>\n",
       "      <td>1D13370546739025387B2F4</td>\n",
       "      <td>318.93</td>\n",
       "      <td>0.00</td>\n",
       "      <td>0.00</td>\n",
       "      <td>0.00</td>\n",
       "      <td>0.00</td>\n",
       "      <td>0.0</td>\n",
       "      <td>0.0</td>\n",
       "      <td>0.0</td>\n",
       "      <td>0.0</td>\n",
       "      <td>1.0</td>\n",
       "      <td>0</td>\n",
       "      <td>0</td>\n",
       "      <td>0.0</td>\n",
       "      <td>1</td>\n",
       "    </tr>\n",
       "    <tr>\n",
       "      <th>2</th>\n",
       "      <td>0EE9337825851032864889A</td>\n",
       "      <td>81716</td>\n",
       "      <td>2007-01-05 15:00:47.090000000</td>\n",
       "      <td>HR</td>\n",
       "      <td>36</td>\n",
       "      <td>Completed</td>\n",
       "      <td>2009-12-17 00:00:00</td>\n",
       "      <td>0.28269</td>\n",
       "      <td>0.2750</td>\n",
       "      <td>0.2400</td>\n",
       "      <td>NaN</td>\n",
       "      <td>NaN</td>\n",
       "      <td>NaN</td>\n",
       "      <td>NaN</td>\n",
       "      <td>NaN</td>\n",
       "      <td>NaN</td>\n",
       "      <td>0</td>\n",
       "      <td>GA</td>\n",
       "      <td>Other</td>\n",
       "      <td>Not available</td>\n",
       "      <td>NaN</td>\n",
       "      <td>False</td>\n",
       "      <td>True</td>\n",
       "      <td>783C3371218786870A73D20</td>\n",
       "      <td>2007-01-02 14:09:10.060000000</td>\n",
       "      <td>480.0</td>\n",
       "      <td>499.0</td>\n",
       "      <td>2002-07-27 00:00:00</td>\n",
       "      <td>NaN</td>\n",
       "      <td>NaN</td>\n",
       "      <td>3.0</td>\n",
       "      <td>0</td>\n",
       "      <td>0.0</td>\n",
       "      <td>0.0</td>\n",
       "      <td>1.0</td>\n",
       "      <td>1.0</td>\n",
       "      <td>NaN</td>\n",
       "      <td>0.0</td>\n",
       "      <td>0.0</td>\n",
       "      <td>NaN</td>\n",
       "      <td>NaN</td>\n",
       "      <td>NaN</td>\n",
       "      <td>NaN</td>\n",
       "      <td>NaN</td>\n",
       "      <td>NaN</td>\n",
       "      <td>NaN</td>\n",
       "      <td>0.06</td>\n",
       "      <td>Not displayed</td>\n",
       "      <td>True</td>\n",
       "      <td>2083.333333</td>\n",
       "      <td>6954337960046817851BCB2</td>\n",
       "      <td>NaN</td>\n",
       "      <td>NaN</td>\n",
       "      <td>NaN</td>\n",
       "      <td>NaN</td>\n",
       "      <td>NaN</td>\n",
       "      <td>NaN</td>\n",
       "      <td>NaN</td>\n",
       "      <td>NaN</td>\n",
       "      <td>0</td>\n",
       "      <td>NaN</td>\n",
       "      <td>86</td>\n",
       "      <td>6466</td>\n",
       "      <td>3001</td>\n",
       "      <td>2007-01-17 00:00:00</td>\n",
       "      <td>Q1 2007</td>\n",
       "      <td>5F7033715035555618FA612</td>\n",
       "      <td>123.32</td>\n",
       "      <td>4186.63</td>\n",
       "      <td>3001.00</td>\n",
       "      <td>1185.63</td>\n",
       "      <td>-24.20</td>\n",
       "      <td>0.0</td>\n",
       "      <td>0.0</td>\n",
       "      <td>0.0</td>\n",
       "      <td>0.0</td>\n",
       "      <td>1.0</td>\n",
       "      <td>0</td>\n",
       "      <td>0</td>\n",
       "      <td>0.0</td>\n",
       "      <td>41</td>\n",
       "    </tr>\n",
       "    <tr>\n",
       "      <th>3</th>\n",
       "      <td>0EF5356002482715299901A</td>\n",
       "      <td>658116</td>\n",
       "      <td>2012-10-22 11:02:35.010000000</td>\n",
       "      <td>NaN</td>\n",
       "      <td>36</td>\n",
       "      <td>Current</td>\n",
       "      <td>NaN</td>\n",
       "      <td>0.12528</td>\n",
       "      <td>0.0974</td>\n",
       "      <td>0.0874</td>\n",
       "      <td>0.08490</td>\n",
       "      <td>0.0249</td>\n",
       "      <td>0.06000</td>\n",
       "      <td>6.0</td>\n",
       "      <td>A</td>\n",
       "      <td>9.0</td>\n",
       "      <td>16</td>\n",
       "      <td>GA</td>\n",
       "      <td>Skilled Labor</td>\n",
       "      <td>Employed</td>\n",
       "      <td>113.0</td>\n",
       "      <td>True</td>\n",
       "      <td>False</td>\n",
       "      <td>NaN</td>\n",
       "      <td>2012-10-22 11:02:32</td>\n",
       "      <td>800.0</td>\n",
       "      <td>819.0</td>\n",
       "      <td>1983-02-28 00:00:00</td>\n",
       "      <td>5.0</td>\n",
       "      <td>5.0</td>\n",
       "      <td>29.0</td>\n",
       "      <td>7</td>\n",
       "      <td>115.0</td>\n",
       "      <td>0.0</td>\n",
       "      <td>1.0</td>\n",
       "      <td>4.0</td>\n",
       "      <td>10056.0</td>\n",
       "      <td>14.0</td>\n",
       "      <td>0.0</td>\n",
       "      <td>0.0</td>\n",
       "      <td>1444.0</td>\n",
       "      <td>0.04</td>\n",
       "      <td>30754.0</td>\n",
       "      <td>26.0</td>\n",
       "      <td>0.76</td>\n",
       "      <td>0.0</td>\n",
       "      <td>0.15</td>\n",
       "      <td>$25,000-49,999</td>\n",
       "      <td>True</td>\n",
       "      <td>2875.000000</td>\n",
       "      <td>A0393664465886295619C51</td>\n",
       "      <td>NaN</td>\n",
       "      <td>NaN</td>\n",
       "      <td>NaN</td>\n",
       "      <td>NaN</td>\n",
       "      <td>NaN</td>\n",
       "      <td>NaN</td>\n",
       "      <td>NaN</td>\n",
       "      <td>NaN</td>\n",
       "      <td>0</td>\n",
       "      <td>NaN</td>\n",
       "      <td>16</td>\n",
       "      <td>77296</td>\n",
       "      <td>10000</td>\n",
       "      <td>2012-11-01 00:00:00</td>\n",
       "      <td>Q4 2012</td>\n",
       "      <td>9ADE356069835475068C6D2</td>\n",
       "      <td>321.45</td>\n",
       "      <td>5143.20</td>\n",
       "      <td>4091.09</td>\n",
       "      <td>1052.11</td>\n",
       "      <td>-108.01</td>\n",
       "      <td>0.0</td>\n",
       "      <td>0.0</td>\n",
       "      <td>0.0</td>\n",
       "      <td>0.0</td>\n",
       "      <td>1.0</td>\n",
       "      <td>0</td>\n",
       "      <td>0</td>\n",
       "      <td>0.0</td>\n",
       "      <td>158</td>\n",
       "    </tr>\n",
       "    <tr>\n",
       "      <th>4</th>\n",
       "      <td>0F023589499656230C5E3E2</td>\n",
       "      <td>909464</td>\n",
       "      <td>2013-09-14 18:38:39.097000000</td>\n",
       "      <td>NaN</td>\n",
       "      <td>36</td>\n",
       "      <td>Current</td>\n",
       "      <td>NaN</td>\n",
       "      <td>0.24614</td>\n",
       "      <td>0.2085</td>\n",
       "      <td>0.1985</td>\n",
       "      <td>0.18316</td>\n",
       "      <td>0.0925</td>\n",
       "      <td>0.09066</td>\n",
       "      <td>3.0</td>\n",
       "      <td>D</td>\n",
       "      <td>4.0</td>\n",
       "      <td>2</td>\n",
       "      <td>MN</td>\n",
       "      <td>Executive</td>\n",
       "      <td>Employed</td>\n",
       "      <td>44.0</td>\n",
       "      <td>True</td>\n",
       "      <td>False</td>\n",
       "      <td>NaN</td>\n",
       "      <td>2013-09-14 18:38:44</td>\n",
       "      <td>680.0</td>\n",
       "      <td>699.0</td>\n",
       "      <td>2004-02-20 00:00:00</td>\n",
       "      <td>19.0</td>\n",
       "      <td>19.0</td>\n",
       "      <td>49.0</td>\n",
       "      <td>6</td>\n",
       "      <td>220.0</td>\n",
       "      <td>1.0</td>\n",
       "      <td>9.0</td>\n",
       "      <td>0.0</td>\n",
       "      <td>0.0</td>\n",
       "      <td>0.0</td>\n",
       "      <td>0.0</td>\n",
       "      <td>0.0</td>\n",
       "      <td>6193.0</td>\n",
       "      <td>0.81</td>\n",
       "      <td>695.0</td>\n",
       "      <td>39.0</td>\n",
       "      <td>0.95</td>\n",
       "      <td>2.0</td>\n",
       "      <td>0.26</td>\n",
       "      <td>$100,000+</td>\n",
       "      <td>True</td>\n",
       "      <td>9583.333333</td>\n",
       "      <td>A180369302188889200689E</td>\n",
       "      <td>1.0</td>\n",
       "      <td>11.0</td>\n",
       "      <td>11.0</td>\n",
       "      <td>0.0</td>\n",
       "      <td>0.0</td>\n",
       "      <td>11000.0</td>\n",
       "      <td>9947.9</td>\n",
       "      <td>NaN</td>\n",
       "      <td>0</td>\n",
       "      <td>NaN</td>\n",
       "      <td>6</td>\n",
       "      <td>102670</td>\n",
       "      <td>15000</td>\n",
       "      <td>2013-09-20 00:00:00</td>\n",
       "      <td>Q3 2013</td>\n",
       "      <td>36CE356043264555721F06C</td>\n",
       "      <td>563.97</td>\n",
       "      <td>2819.85</td>\n",
       "      <td>1563.22</td>\n",
       "      <td>1256.63</td>\n",
       "      <td>-60.27</td>\n",
       "      <td>0.0</td>\n",
       "      <td>0.0</td>\n",
       "      <td>0.0</td>\n",
       "      <td>0.0</td>\n",
       "      <td>1.0</td>\n",
       "      <td>0</td>\n",
       "      <td>0</td>\n",
       "      <td>0.0</td>\n",
       "      <td>20</td>\n",
       "    </tr>\n",
       "  </tbody>\n",
       "</table>\n",
       "</div>"
      ],
      "text/plain": [
       "                ListingKey  ListingNumber            ListingCreationDate  \\\n",
       "0  1021339766868145413AB3B         193129  2007-08-26 19:09:29.263000000   \n",
       "1  10273602499503308B223C1        1209647  2014-02-27 08:28:07.900000000   \n",
       "2  0EE9337825851032864889A          81716  2007-01-05 15:00:47.090000000   \n",
       "3  0EF5356002482715299901A         658116  2012-10-22 11:02:35.010000000   \n",
       "4  0F023589499656230C5E3E2         909464  2013-09-14 18:38:39.097000000   \n",
       "\n",
       "  CreditGrade  Term LoanStatus           ClosedDate  BorrowerAPR  \\\n",
       "0           C    36  Completed  2009-08-14 00:00:00      0.16516   \n",
       "1         NaN    36    Current                  NaN      0.12016   \n",
       "2          HR    36  Completed  2009-12-17 00:00:00      0.28269   \n",
       "3         NaN    36    Current                  NaN      0.12528   \n",
       "4         NaN    36    Current                  NaN      0.24614   \n",
       "\n",
       "   BorrowerRate  LenderYield  EstimatedEffectiveYield  EstimatedLoss  \\\n",
       "0        0.1580       0.1380                      NaN            NaN   \n",
       "1        0.0920       0.0820                  0.07960         0.0249   \n",
       "2        0.2750       0.2400                      NaN            NaN   \n",
       "3        0.0974       0.0874                  0.08490         0.0249   \n",
       "4        0.2085       0.1985                  0.18316         0.0925   \n",
       "\n",
       "   EstimatedReturn  ProsperRating (numeric) ProsperRating (Alpha)  \\\n",
       "0              NaN                      NaN                   NaN   \n",
       "1          0.05470                      6.0                     A   \n",
       "2              NaN                      NaN                   NaN   \n",
       "3          0.06000                      6.0                     A   \n",
       "4          0.09066                      3.0                     D   \n",
       "\n",
       "   ProsperScore  ListingCategory (numeric) BorrowerState     Occupation  \\\n",
       "0           NaN                          0            CO          Other   \n",
       "1           7.0                          2            CO   Professional   \n",
       "2           NaN                          0            GA          Other   \n",
       "3           9.0                         16            GA  Skilled Labor   \n",
       "4           4.0                          2            MN      Executive   \n",
       "\n",
       "  EmploymentStatus  EmploymentStatusDuration  IsBorrowerHomeowner  \\\n",
       "0    Self-employed                       2.0                 True   \n",
       "1         Employed                      44.0                False   \n",
       "2    Not available                       NaN                False   \n",
       "3         Employed                     113.0                 True   \n",
       "4         Employed                      44.0                 True   \n",
       "\n",
       "   CurrentlyInGroup                 GroupKey               DateCreditPulled  \\\n",
       "0              True                      NaN  2007-08-26 18:41:46.780000000   \n",
       "1             False                      NaN            2014-02-27 08:28:14   \n",
       "2              True  783C3371218786870A73D20  2007-01-02 14:09:10.060000000   \n",
       "3             False                      NaN            2012-10-22 11:02:32   \n",
       "4             False                      NaN            2013-09-14 18:38:44   \n",
       "\n",
       "   CreditScoreRangeLower  CreditScoreRangeUpper FirstRecordedCreditLine  \\\n",
       "0                  640.0                  659.0     2001-10-11 00:00:00   \n",
       "1                  680.0                  699.0     1996-03-18 00:00:00   \n",
       "2                  480.0                  499.0     2002-07-27 00:00:00   \n",
       "3                  800.0                  819.0     1983-02-28 00:00:00   \n",
       "4                  680.0                  699.0     2004-02-20 00:00:00   \n",
       "\n",
       "   CurrentCreditLines  OpenCreditLines  TotalCreditLinespast7years  \\\n",
       "0                 5.0              4.0                        12.0   \n",
       "1                14.0             14.0                        29.0   \n",
       "2                 NaN              NaN                         3.0   \n",
       "3                 5.0              5.0                        29.0   \n",
       "4                19.0             19.0                        49.0   \n",
       "\n",
       "   OpenRevolvingAccounts  OpenRevolvingMonthlyPayment  InquiriesLast6Months  \\\n",
       "0                      1                         24.0                   3.0   \n",
       "1                     13                        389.0                   3.0   \n",
       "2                      0                          0.0                   0.0   \n",
       "3                      7                        115.0                   0.0   \n",
       "4                      6                        220.0                   1.0   \n",
       "\n",
       "   TotalInquiries  CurrentDelinquencies  AmountDelinquent  \\\n",
       "0             3.0                   2.0             472.0   \n",
       "1             5.0                   0.0               0.0   \n",
       "2             1.0                   1.0               NaN   \n",
       "3             1.0                   4.0           10056.0   \n",
       "4             9.0                   0.0               0.0   \n",
       "\n",
       "   DelinquenciesLast7Years  PublicRecordsLast10Years  \\\n",
       "0                      4.0                       0.0   \n",
       "1                      0.0                       1.0   \n",
       "2                      0.0                       0.0   \n",
       "3                     14.0                       0.0   \n",
       "4                      0.0                       0.0   \n",
       "\n",
       "   PublicRecordsLast12Months  RevolvingCreditBalance  BankcardUtilization  \\\n",
       "0                        0.0                     0.0                 0.00   \n",
       "1                        0.0                  3989.0                 0.21   \n",
       "2                        NaN                     NaN                  NaN   \n",
       "3                        0.0                  1444.0                 0.04   \n",
       "4                        0.0                  6193.0                 0.81   \n",
       "\n",
       "   AvailableBankcardCredit  TotalTrades  TradesNeverDelinquent (percentage)  \\\n",
       "0                   1500.0         11.0                                0.81   \n",
       "1                  10266.0         29.0                                1.00   \n",
       "2                      NaN          NaN                                 NaN   \n",
       "3                  30754.0         26.0                                0.76   \n",
       "4                    695.0         39.0                                0.95   \n",
       "\n",
       "   TradesOpenedLast6Months  DebtToIncomeRatio     IncomeRange  \\\n",
       "0                      0.0               0.17  $25,000-49,999   \n",
       "1                      2.0               0.18  $50,000-74,999   \n",
       "2                      NaN               0.06   Not displayed   \n",
       "3                      0.0               0.15  $25,000-49,999   \n",
       "4                      2.0               0.26       $100,000+   \n",
       "\n",
       "   IncomeVerifiable  StatedMonthlyIncome                  LoanKey  \\\n",
       "0              True          3083.333333  E33A3400205839220442E84   \n",
       "1              True          6125.000000  9E3B37071505919926B1D82   \n",
       "2              True          2083.333333  6954337960046817851BCB2   \n",
       "3              True          2875.000000  A0393664465886295619C51   \n",
       "4              True          9583.333333  A180369302188889200689E   \n",
       "\n",
       "   TotalProsperLoans  TotalProsperPaymentsBilled  OnTimeProsperPayments  \\\n",
       "0                NaN                         NaN                    NaN   \n",
       "1                NaN                         NaN                    NaN   \n",
       "2                NaN                         NaN                    NaN   \n",
       "3                NaN                         NaN                    NaN   \n",
       "4                1.0                        11.0                   11.0   \n",
       "\n",
       "   ProsperPaymentsLessThanOneMonthLate  ProsperPaymentsOneMonthPlusLate  \\\n",
       "0                                  NaN                              NaN   \n",
       "1                                  NaN                              NaN   \n",
       "2                                  NaN                              NaN   \n",
       "3                                  NaN                              NaN   \n",
       "4                                  0.0                              0.0   \n",
       "\n",
       "   ProsperPrincipalBorrowed  ProsperPrincipalOutstanding  \\\n",
       "0                       NaN                          NaN   \n",
       "1                       NaN                          NaN   \n",
       "2                       NaN                          NaN   \n",
       "3                       NaN                          NaN   \n",
       "4                   11000.0                       9947.9   \n",
       "\n",
       "   ScorexChangeAtTimeOfListing  LoanCurrentDaysDelinquent  \\\n",
       "0                          NaN                          0   \n",
       "1                          NaN                          0   \n",
       "2                          NaN                          0   \n",
       "3                          NaN                          0   \n",
       "4                          NaN                          0   \n",
       "\n",
       "   LoanFirstDefaultedCycleNumber  LoanMonthsSinceOrigination  LoanNumber  \\\n",
       "0                            NaN                          78       19141   \n",
       "1                            NaN                           0      134815   \n",
       "2                            NaN                          86        6466   \n",
       "3                            NaN                          16       77296   \n",
       "4                            NaN                           6      102670   \n",
       "\n",
       "   LoanOriginalAmount  LoanOriginationDate LoanOriginationQuarter  \\\n",
       "0                9425  2007-09-12 00:00:00                Q3 2007   \n",
       "1               10000  2014-03-03 00:00:00                Q1 2014   \n",
       "2                3001  2007-01-17 00:00:00                Q1 2007   \n",
       "3               10000  2012-11-01 00:00:00                Q4 2012   \n",
       "4               15000  2013-09-20 00:00:00                Q3 2013   \n",
       "\n",
       "                 MemberKey  MonthlyLoanPayment  LP_CustomerPayments  \\\n",
       "0  1F3E3376408759268057EDA              330.43             11396.14   \n",
       "1  1D13370546739025387B2F4              318.93                 0.00   \n",
       "2  5F7033715035555618FA612              123.32              4186.63   \n",
       "3  9ADE356069835475068C6D2              321.45              5143.20   \n",
       "4  36CE356043264555721F06C              563.97              2819.85   \n",
       "\n",
       "   LP_CustomerPrincipalPayments  LP_InterestandFees  LP_ServiceFees  \\\n",
       "0                       9425.00             1971.14         -133.18   \n",
       "1                          0.00                0.00            0.00   \n",
       "2                       3001.00             1185.63          -24.20   \n",
       "3                       4091.09             1052.11         -108.01   \n",
       "4                       1563.22             1256.63          -60.27   \n",
       "\n",
       "   LP_CollectionFees  LP_GrossPrincipalLoss  LP_NetPrincipalLoss  \\\n",
       "0                0.0                    0.0                  0.0   \n",
       "1                0.0                    0.0                  0.0   \n",
       "2                0.0                    0.0                  0.0   \n",
       "3                0.0                    0.0                  0.0   \n",
       "4                0.0                    0.0                  0.0   \n",
       "\n",
       "   LP_NonPrincipalRecoverypayments  PercentFunded  Recommendations  \\\n",
       "0                              0.0            1.0                0   \n",
       "1                              0.0            1.0                0   \n",
       "2                              0.0            1.0                0   \n",
       "3                              0.0            1.0                0   \n",
       "4                              0.0            1.0                0   \n",
       "\n",
       "   InvestmentFromFriendsCount  InvestmentFromFriendsAmount  Investors  \n",
       "0                           0                          0.0        258  \n",
       "1                           0                          0.0          1  \n",
       "2                           0                          0.0         41  \n",
       "3                           0                          0.0        158  \n",
       "4                           0                          0.0         20  "
      ]
     },
     "execution_count": 2,
     "metadata": {},
     "output_type": "execute_result"
    }
   ],
   "source": [
    "df = pd.read_csv('prosperLoanData.csv')\n",
    "df.head()"
   ]
  },
  {
   "cell_type": "markdown",
   "metadata": {},
   "source": [
    "High level overview of data shape and composition:"
   ]
  },
  {
   "cell_type": "code",
   "execution_count": 3,
   "metadata": {
    "scrolled": true
   },
   "outputs": [
    {
     "name": "stdout",
     "output_type": "stream",
     "text": [
      "(113937, 81)\n",
      "ListingKey                              object\n",
      "ListingNumber                            int64\n",
      "ListingCreationDate                     object\n",
      "CreditGrade                             object\n",
      "Term                                     int64\n",
      "LoanStatus                              object\n",
      "ClosedDate                              object\n",
      "BorrowerAPR                            float64\n",
      "BorrowerRate                           float64\n",
      "LenderYield                            float64\n",
      "EstimatedEffectiveYield                float64\n",
      "EstimatedLoss                          float64\n",
      "EstimatedReturn                        float64\n",
      "ProsperRating (numeric)                float64\n",
      "ProsperRating (Alpha)                   object\n",
      "ProsperScore                           float64\n",
      "ListingCategory (numeric)                int64\n",
      "BorrowerState                           object\n",
      "Occupation                              object\n",
      "EmploymentStatus                        object\n",
      "EmploymentStatusDuration               float64\n",
      "IsBorrowerHomeowner                       bool\n",
      "CurrentlyInGroup                          bool\n",
      "GroupKey                                object\n",
      "DateCreditPulled                        object\n",
      "CreditScoreRangeLower                  float64\n",
      "CreditScoreRangeUpper                  float64\n",
      "FirstRecordedCreditLine                 object\n",
      "CurrentCreditLines                     float64\n",
      "OpenCreditLines                        float64\n",
      "TotalCreditLinespast7years             float64\n",
      "OpenRevolvingAccounts                    int64\n",
      "OpenRevolvingMonthlyPayment            float64\n",
      "InquiriesLast6Months                   float64\n",
      "TotalInquiries                         float64\n",
      "CurrentDelinquencies                   float64\n",
      "AmountDelinquent                       float64\n",
      "DelinquenciesLast7Years                float64\n",
      "PublicRecordsLast10Years               float64\n",
      "PublicRecordsLast12Months              float64\n",
      "RevolvingCreditBalance                 float64\n",
      "BankcardUtilization                    float64\n",
      "AvailableBankcardCredit                float64\n",
      "TotalTrades                            float64\n",
      "TradesNeverDelinquent (percentage)     float64\n",
      "TradesOpenedLast6Months                float64\n",
      "DebtToIncomeRatio                      float64\n",
      "IncomeRange                             object\n",
      "IncomeVerifiable                          bool\n",
      "StatedMonthlyIncome                    float64\n",
      "LoanKey                                 object\n",
      "TotalProsperLoans                      float64\n",
      "TotalProsperPaymentsBilled             float64\n",
      "OnTimeProsperPayments                  float64\n",
      "ProsperPaymentsLessThanOneMonthLate    float64\n",
      "ProsperPaymentsOneMonthPlusLate        float64\n",
      "ProsperPrincipalBorrowed               float64\n",
      "ProsperPrincipalOutstanding            float64\n",
      "ScorexChangeAtTimeOfListing            float64\n",
      "LoanCurrentDaysDelinquent                int64\n",
      "LoanFirstDefaultedCycleNumber          float64\n",
      "LoanMonthsSinceOrigination               int64\n",
      "LoanNumber                               int64\n",
      "LoanOriginalAmount                       int64\n",
      "LoanOriginationDate                     object\n",
      "LoanOriginationQuarter                  object\n",
      "MemberKey                               object\n",
      "MonthlyLoanPayment                     float64\n",
      "LP_CustomerPayments                    float64\n",
      "LP_CustomerPrincipalPayments           float64\n",
      "LP_InterestandFees                     float64\n",
      "LP_ServiceFees                         float64\n",
      "LP_CollectionFees                      float64\n",
      "LP_GrossPrincipalLoss                  float64\n",
      "LP_NetPrincipalLoss                    float64\n",
      "LP_NonPrincipalRecoverypayments        float64\n",
      "PercentFunded                          float64\n",
      "Recommendations                          int64\n",
      "InvestmentFromFriendsCount               int64\n",
      "InvestmentFromFriendsAmount            float64\n",
      "Investors                                int64\n",
      "dtype: object\n"
     ]
    }
   ],
   "source": [
    "print(df.shape)\n",
    "print(df.dtypes)"
   ]
  },
  {
   "cell_type": "markdown",
   "metadata": {},
   "source": [
    "We do some conversions of data type:"
   ]
  },
  {
   "cell_type": "code",
   "execution_count": 12,
   "metadata": {},
   "outputs": [],
   "source": [
    "# We convert the 'Date' columns to datetime format\n",
    "\n",
    "date_columns = ['ListingCreationDate', 'ClosedDate', 'DateCreditPulled', 'LoanOriginationDate']\n",
    "\n",
    "for i in date_columns:\n",
    "    df[i]= pd.to_datetime(df[i]).dt.normalize()"
   ]
  },
  {
   "cell_type": "code",
   "execution_count": 13,
   "metadata": {},
   "outputs": [],
   "source": [
    "# We convert 'ListingNumber' and 'Term' to string type\n",
    "\n",
    "df['ListingNumber'] = df['ListingNumber'].astype('str')\n",
    "df['Term'] = df['Term'].astype('str')"
   ]
  },
  {
   "cell_type": "markdown",
   "metadata": {},
   "source": [
    "Before we do conversions for categorical variables, we create a new column 'ProsperRating' where we first take all the data from column 'ProsperRating (Alpha)'s and then populate its missing values (pre-2009) with data from 'CreditGrade'. \n",
    "\n",
    "Note: This isn't perfect, but it follows the same rating scale (AA - A - B - C - D - E - HR), so it will give us some nice continuity across a gap in the data around the time of the 2008 financial crisis."
   ]
  },
  {
   "cell_type": "code",
   "execution_count": 51,
   "metadata": {},
   "outputs": [
    {
     "data": {
      "text/plain": [
       "131"
      ]
     },
     "execution_count": 51,
     "metadata": {},
     "output_type": "execute_result"
    }
   ],
   "source": [
    "# We create the new column where we first take all the data from column 'ProsperRating (Alpha)'s \n",
    "# and then populate its missing values (pre-2009) with data from 'CreditGrade'.\n",
    "\n",
    "df['ProsperRating'] = df['ProsperRating (Alpha)'].fillna(df['CreditGrade'])\n",
    "\n",
    "# We check for missing data in our new column\n",
    "df['ProsperRating'].isna().sum()"
   ]
  },
  {
   "cell_type": "code",
   "execution_count": 60,
   "metadata": {},
   "outputs": [],
   "source": [
    "# We remove the missing data with pandas notnull function\n",
    "\n",
    "df = df[pd.notnull(df['ProsperRating'])]"
   ]
  },
  {
   "cell_type": "code",
   "execution_count": 52,
   "metadata": {
    "scrolled": true
   },
   "outputs": [
    {
     "data": {
      "text/plain": [
       "C     23994\n",
       "B     19970\n",
       "D     19427\n",
       "A     17866\n",
       "E     13084\n",
       "HR    10443\n",
       "AA     8881\n",
       "NC      141\n",
       "Name: ProsperRating, dtype: int64"
      ]
     },
     "execution_count": 52,
     "metadata": {},
     "output_type": "execute_result"
    }
   ],
   "source": [
    "# The CreditGrade column also carried an extra value 'NC', \n",
    "# which we interpret as missing data as well (\"Not Counted\")\n",
    "\n",
    "df['ProsperRating'].value_counts()"
   ]
  },
  {
   "cell_type": "code",
   "execution_count": 61,
   "metadata": {},
   "outputs": [],
   "source": [
    "# We remove that as well\n",
    "\n",
    "df = df[df.ProsperRating != 'NC']"
   ]
  },
  {
   "cell_type": "code",
   "execution_count": 62,
   "metadata": {
    "scrolled": true
   },
   "outputs": [
    {
     "data": {
      "text/plain": [
       "C     23994\n",
       "B     19970\n",
       "D     19427\n",
       "A     17866\n",
       "E     13084\n",
       "HR    10443\n",
       "AA     8881\n",
       "Name: ProsperRating, dtype: int64"
      ]
     },
     "execution_count": 62,
     "metadata": {},
     "output_type": "execute_result"
    }
   ],
   "source": [
    "# and verify that we only have the mentioned ratings that we want\n",
    "\n",
    "df['ProsperRating'].value_counts()"
   ]
  },
  {
   "cell_type": "code",
   "execution_count": 72,
   "metadata": {},
   "outputs": [],
   "source": [
    "# We also remove the missing data in 'BorrowerAPR' with pandas notnull function\n",
    "\n",
    "df = df[pd.notnull(df['BorrowerAPR'])]"
   ]
  },
  {
   "cell_type": "markdown",
   "metadata": {},
   "source": [
    "One more step before we can move on to conversions for categorical variables:"
   ]
  },
  {
   "cell_type": "code",
   "execution_count": 76,
   "metadata": {},
   "outputs": [],
   "source": [
    "# We want to add a column 'ListingCategory' and populate it \n",
    "# based on 'ListingCategory (numeric)'.\n",
    "\n",
    "# First we create a dict for mapping between them\n",
    "d = {0 : '0. Not Available',\n",
    "     1 : '1. Debt Consolidation',\n",
    "     2 : '2. Home Improvement', \n",
    "     3 : '3. Business', \n",
    "     4 : '4. Personal Loan', \n",
    "     5 : '5. Student Use',\n",
    "     6 : '6. Auto',\n",
    "     7 : '7. Other',\n",
    "     8 : '8. Baby and Adoption', \n",
    "     9 : '9. Boat', \n",
    "     10 : '10. Cosmetic Procedure', \n",
    "     11 : '11. Engagement Ring',\n",
    "     12 : '12. Green Loans',\n",
    "     13 : '13. Household Expenses',\n",
    "     14 : '14. Large Purchases',\n",
    "     15 : '15. Medical/Dental',\n",
    "     16 : '16. Motorcycle',\n",
    "     17 : '17. RV',\n",
    "     18 : '18. Taxes',\n",
    "     19 : '19. Vacation',\n",
    "     20 : '20. Wedding Loans'}\n",
    "\n",
    "# we initialize the new column:\n",
    "\n",
    "df['ListingCategory'] = '0. Not Available'\n",
    "\n",
    "# and then we populate it.\n",
    "\n",
    "for key in d:\n",
    "    df.loc[df['ListingCategory (numeric)'] == key,'ListingCategory'] = d[key]"
   ]
  },
  {
   "cell_type": "markdown",
   "metadata": {},
   "source": [
    "Great. Now we will perform conversions for categorical variables"
   ]
  },
  {
   "cell_type": "code",
   "execution_count": 64,
   "metadata": {},
   "outputs": [],
   "source": [
    "# We convert Term, LoanStatus, ListingCategory and IncomeRange\n",
    "# into ordered categorical types.\n",
    "\n",
    "ordinal_var_dict = {'Term': ['12','36','60'],\n",
    "                    'LoanStatus': ['Current', 'Completed','FinalPaymentInProgress', \n",
    "                                   'Past Due (1-15 days)', 'Past Due (16-30 days)', \n",
    "                                   'Past Due (31-60 days)', 'Past Due (61-90 days)', \n",
    "                                   'Past Due (90-120 days)', 'Past Due (>120 days)', \n",
    "                                   'Chargedoff', 'Defaulted'],\n",
    "                    'ListingCategory': list(d.values()),\n",
    "                    'IncomeRange': ['Not displayed', 'Not employed', '$0', '$1-24,999', '$25,000-49,999', '$50,000-74,999', '$75,000-99,999', '$100,000+'],\n",
    "                    'EmploymentStatus': ['Employed', 'Self-employed', 'Full-time', 'Part-time', 'Retired', 'Other', 'Not employed', 'Not available'], \n",
    "                    'ProsperRating': ['AA', 'A', 'B', 'C', 'D', 'E', 'HR']}\n",
    "\n",
    "for var in ordinal_var_dict:\n",
    "    ordered_var = pd.api.types.CategoricalDtype(ordered = True,\n",
    "                                                categories = ordinal_var_dict[var])\n",
    "    df[var] = df[var].astype(ordered_var)"
   ]
  },
  {
   "cell_type": "markdown",
   "metadata": {},
   "source": [
    "Let us inspect the data types"
   ]
  },
  {
   "cell_type": "code",
   "execution_count": 65,
   "metadata": {
    "scrolled": true
   },
   "outputs": [
    {
     "name": "stdout",
     "output_type": "stream",
     "text": [
      "<class 'pandas.core.frame.DataFrame'>\n",
      "Int64Index: 113665 entries, 0 to 113936\n",
      "Data columns (total 83 columns):\n",
      "ListingKey                             113665 non-null object\n",
      "ListingNumber                          113665 non-null object\n",
      "ListingCreationDate                    113665 non-null datetime64[ns]\n",
      "CreditGrade                            28812 non-null object\n",
      "Term                                   113665 non-null category\n",
      "LoanStatus                             113356 non-null category\n",
      "ClosedDate                             54817 non-null datetime64[ns]\n",
      "BorrowerAPR                            113641 non-null float64\n",
      "BorrowerRate                           113665 non-null float64\n",
      "LenderYield                            113665 non-null float64\n",
      "EstimatedEffectiveYield                84853 non-null float64\n",
      "EstimatedLoss                          84853 non-null float64\n",
      "EstimatedReturn                        84853 non-null float64\n",
      "ProsperRating (numeric)                84853 non-null float64\n",
      "ProsperRating (Alpha)                  84853 non-null object\n",
      "ProsperScore                           84853 non-null float64\n",
      "ListingCategory (numeric)              113665 non-null int64\n",
      "BorrowerState                          108204 non-null object\n",
      "Occupation                             110119 non-null object\n",
      "EmploymentStatus                       111452 non-null category\n",
      "EmploymentStatusDuration               106181 non-null float64\n",
      "IsBorrowerHomeowner                    113665 non-null bool\n",
      "CurrentlyInGroup                       113665 non-null bool\n",
      "GroupKey                               13215 non-null object\n",
      "DateCreditPulled                       113665 non-null datetime64[ns]\n",
      "CreditScoreRangeLower                  113085 non-null float64\n",
      "CreditScoreRangeUpper                  113085 non-null float64\n",
      "FirstRecordedCreditLine                113036 non-null object\n",
      "CurrentCreditLines                     106202 non-null float64\n",
      "OpenCreditLines                        106202 non-null float64\n",
      "TotalCreditLinespast7years             113036 non-null float64\n",
      "OpenRevolvingAccounts                  113665 non-null int64\n",
      "OpenRevolvingMonthlyPayment            113665 non-null float64\n",
      "InquiriesLast6Months                   113036 non-null float64\n",
      "TotalInquiries                         112529 non-null float64\n",
      "CurrentDelinquencies                   113036 non-null float64\n",
      "AmountDelinquent                       106184 non-null float64\n",
      "DelinquenciesLast7Years                112746 non-null float64\n",
      "PublicRecordsLast10Years               113036 non-null float64\n",
      "PublicRecordsLast12Months              106202 non-null float64\n",
      "RevolvingCreditBalance                 106202 non-null float64\n",
      "BankcardUtilization                    106202 non-null float64\n",
      "AvailableBankcardCredit                106260 non-null float64\n",
      "TotalTrades                            106260 non-null float64\n",
      "TradesNeverDelinquent (percentage)     106260 non-null float64\n",
      "TradesOpenedLast6Months                106260 non-null float64\n",
      "DebtToIncomeRatio                      105183 non-null float64\n",
      "IncomeRange                            113665 non-null category\n",
      "IncomeVerifiable                       113665 non-null bool\n",
      "StatedMonthlyIncome                    113665 non-null float64\n",
      "LoanKey                                113665 non-null object\n",
      "TotalProsperLoans                      22026 non-null float64\n",
      "TotalProsperPaymentsBilled             22026 non-null float64\n",
      "OnTimeProsperPayments                  22026 non-null float64\n",
      "ProsperPaymentsLessThanOneMonthLate    22026 non-null float64\n",
      "ProsperPaymentsOneMonthPlusLate        22026 non-null float64\n",
      "ProsperPrincipalBorrowed               22026 non-null float64\n",
      "ProsperPrincipalOutstanding            22026 non-null float64\n",
      "ScorexChangeAtTimeOfListing            18871 non-null float64\n",
      "LoanCurrentDaysDelinquent              113665 non-null int64\n",
      "LoanFirstDefaultedCycleNumber          16844 non-null float64\n",
      "LoanMonthsSinceOrigination             113665 non-null int64\n",
      "LoanNumber                             113665 non-null int64\n",
      "LoanOriginalAmount                     113665 non-null int64\n",
      "LoanOriginationDate                    113665 non-null datetime64[ns]\n",
      "LoanOriginationQuarter                 113665 non-null object\n",
      "MemberKey                              113665 non-null object\n",
      "MonthlyLoanPayment                     113665 non-null float64\n",
      "LP_CustomerPayments                    113665 non-null float64\n",
      "LP_CustomerPrincipalPayments           113665 non-null float64\n",
      "LP_InterestandFees                     113665 non-null float64\n",
      "LP_ServiceFees                         113665 non-null float64\n",
      "LP_CollectionFees                      113665 non-null float64\n",
      "LP_GrossPrincipalLoss                  113665 non-null float64\n",
      "LP_NetPrincipalLoss                    113665 non-null float64\n",
      "LP_NonPrincipalRecoverypayments        113665 non-null float64\n",
      "PercentFunded                          113665 non-null float64\n",
      "Recommendations                        113665 non-null int64\n",
      "InvestmentFromFriendsCount             113665 non-null int64\n",
      "InvestmentFromFriendsAmount            113665 non-null float64\n",
      "Investors                              113665 non-null int64\n",
      "ListingCategory                        113665 non-null category\n",
      "ProsperRating                          113665 non-null category\n",
      "dtypes: bool(3), category(6), datetime64[ns](4), float64(50), int64(9), object(11)\n",
      "memory usage: 66.0+ MB\n"
     ]
    }
   ],
   "source": [
    "df.info()"
   ]
  },
  {
   "cell_type": "markdown",
   "metadata": {},
   "source": [
    "We see that the categorical data types are indeed there, and among them at the very bottom of the output we notice our new columns 'ListingCategory' and 'ProsperRating'."
   ]
  },
  {
   "cell_type": "markdown",
   "metadata": {},
   "source": [
    "### What is the structure of your dataset?"
   ]
  },
  {
   "cell_type": "code",
   "execution_count": 75,
   "metadata": {},
   "outputs": [
    {
     "data": {
      "text/plain": [
       "(113641, 83)"
      ]
     },
     "execution_count": 75,
     "metadata": {},
     "output_type": "execute_result"
    }
   ],
   "source": [
    "df.shape"
   ]
  },
  {
   "cell_type": "markdown",
   "metadata": {},
   "source": [
    "There were initially 113,937 loan listings (rows) and 81 variables of data (columns) in the raw dataset.\n",
    "We have dropped some rows due to missing data in key columns, and we have added two new columns.\n",
    "Now we have 113,641 loan listings (rows) and 83 variables of data (columns).\n",
    "\n",
    "As stated in the Introduction, we will focus on 13 variables:\n",
    "- 1 is a datetime variable: 'LoanOriginationDate'.\n",
    "- 6 are categorical variables: 'Term', 'LoanStatus', 'ListingCategory', 'IncomeRange', 'EmploymentStatus' and 'ProsperRating'.\n",
    "- 4 are numeric variables: 'LoanOrginationAmount', 'BorrowerAPR', 'OnTimeProsperPayments', 'Recommendations'.\n",
    "- 1 is a boolean variable: 'IsBorrowerHomeowner'.\n",
    "- 1 is of string format: 'BorrowerState'\n",
    "\n",
    "\n",
    "### What is/are the main feature(s) of interest in your dataset?\n",
    "\n",
    "As stated in the Introduction, I will focus on the variables that seem relevant to decisions by the Lender at the time a new loan gets originated, as well as the clearly dependent variables 'ProsperRating' and 'BorrowerAPR'.\n",
    "\n",
    "I am interested to find out:\n",
    "- How does ProsperRating and the borrower’s APR (annual percentage rate) correlate?\n",
    "- How does LoanOrginationAmount correlate with the borrower’s APR?\n",
    "- Which seems to be the best predictor of a high ProsperRating - is it EmploymentStatus, IncomeRange, BorrowerState, IsBorrowerHomeowner, OnTimeProsperPayments or Recommendations?\n",
    "\n",
    "### What features in the dataset do you think will help support your investigation into your feature(s) of interest?\n",
    "\n",
    "It is only logical that 'ProsperRating' and 'BorrowerAPR' are dependent on each other, and both are calculated/decided by the Lender.\n",
    "\n",
    "I would guess that 'LoanOrginationAmount' is a good predictor of the two. Small loans often have high interest rates.\n",
    "\n",
    "'EmploymentStatus', 'IncomeRange', 'BorrowerState', 'IsBorrowerHomeowner', OnTimeProsperPayments and Recommendations might be helpful as well, but I do not have any clear opinion on which is better among these.\n",
    "\n",
    "There is also the time aspect. We might discover some variations over time. If so, and if we wish to explore it, LoanOriginationDate will be absolutely cruicial."
   ]
  },
  {
   "cell_type": "markdown",
   "metadata": {},
   "source": [
    "## High Level Overview"
   ]
  },
  {
   "cell_type": "markdown",
   "metadata": {},
   "source": [
    "We know the number of loans is a bit above 113k.\n",
    "\n",
    "What is the total amount for all the loans? And what is the average amount?"
   ]
  },
  {
   "cell_type": "code",
   "execution_count": 78,
   "metadata": {
    "scrolled": true
   },
   "outputs": [
    {
     "name": "stdout",
     "output_type": "stream",
     "text": [
      "Total loan amount: $ 948,929,675\n",
      "Avg. loan amount: $ 8,350\n"
     ]
    }
   ],
   "source": [
    "print(\"Total loan amount: $ {:,.0f}\".format(df['LoanOriginalAmount'].sum()))\n",
    "print(\"Avg. loan amount: $ {0:,.0f}\".format(df['LoanOriginalAmount'].mean()))"
   ]
  },
  {
   "cell_type": "markdown",
   "metadata": {},
   "source": [
    "The total loan amount is nearly USD 1 billion, and the average loan amount a bit more than USD 8,000."
   ]
  },
  {
   "cell_type": "markdown",
   "metadata": {},
   "source": [
    "#### Time Range"
   ]
  },
  {
   "cell_type": "code",
   "execution_count": 83,
   "metadata": {},
   "outputs": [
    {
     "name": "stdout",
     "output_type": "stream",
     "text": [
      "2006-01-06\n",
      "2014-03-10\n"
     ]
    }
   ],
   "source": [
    "print(df.ListingCreationDate.dt.date.min())\n",
    "print(df.ListingCreationDate.dt.date.max())"
   ]
  },
  {
   "cell_type": "markdown",
   "metadata": {},
   "source": [
    "The data ranges from "
   ]
  },
  {
   "cell_type": "markdown",
   "metadata": {},
   "source": [
    "## Univariate Exploration"
   ]
  },
  {
   "cell_type": "markdown",
   "metadata": {},
   "source": [
    "Q: What are the most common loan amounts?"
   ]
  },
  {
   "cell_type": "code",
   "execution_count": 20,
   "metadata": {
    "scrolled": false
   },
   "outputs": [
    {
     "data": {
      "text/plain": [
       "4000     14333\n",
       "15000    12407\n",
       "10000    11106\n",
       "5000      6990\n",
       "2000      6067\n",
       "         ...  \n",
       "14383        1\n",
       "6251         1\n",
       "14447        1\n",
       "6379         1\n",
       "4098         1\n",
       "Name: LoanOriginalAmount, Length: 2468, dtype: int64"
      ]
     },
     "execution_count": 20,
     "metadata": {},
     "output_type": "execute_result"
    }
   ],
   "source": [
    "df['LoanOriginalAmount'].value_counts()"
   ]
  },
  {
   "cell_type": "markdown",
   "metadata": {},
   "source": [
    "A: The top 3 most common loan amounts each occur more than 10,000 times, and they are:\n",
    "1. USD 4,000 (14k times)\n",
    "2. USD 15,000 (12k times)\n",
    "3. USD 10,000 (11k times)\n",
    "\n",
    "We also note that there are \"unique\" amounts that occur only once."
   ]
  },
  {
   "cell_type": "markdown",
   "metadata": {},
   "source": [
    "Q: How does the loan amount distribution look in a plot?"
   ]
  },
  {
   "cell_type": "code",
   "execution_count": 21,
   "metadata": {
    "scrolled": false
   },
   "outputs": [
    {
     "data": {
      "image/png": "[encoded data removed]",
      "text/plain": [
       "<Figure size 864x288 with 1 Axes>"
      ]
     },
     "metadata": {
      "needs_background": "light"
     },
     "output_type": "display_data"
    }
   ],
   "source": [
    "# We will use a histogram for this\n",
    "plt.figure(figsize = [12,4])\n",
    "bin_edges = np.arange(1000, df['LoanOriginalAmount'].max() + 2000, 2000)\n",
    "plt.hist(data = df, x = 'LoanOriginalAmount', bins = bin_edges)\n",
    "plt.xlabel('LoanOriginalAmount');"
   ]
  },
  {
   "cell_type": "markdown",
   "metadata": {},
   "source": [
    "We can see that there seems to be a lot of smaller loans between \\\\$1,000 and \\\\$11,000, and there is a right-skew.\n",
    "\n",
    "It would be nice to understand better what goes on around the peaks."
   ]
  },
  {
   "cell_type": "code",
   "execution_count": 22,
   "metadata": {},
   "outputs": [
    {
     "data": {
      "image/png": "[encoded data removed]",
      "text/plain": [
       "<Figure size 864x288 with 1 Axes>"
      ]
     },
     "metadata": {
      "needs_background": "light"
     },
     "output_type": "display_data"
    }
   ],
   "source": [
    "# We will use a histogram again and decrease the bin width compared to last time.\n",
    "plt.figure(figsize = [12,4])\n",
    "bin_edges = np.arange(1000, df['LoanOriginalAmount'].max() + 500, 500)\n",
    "plt.hist(data = df, x = 'LoanOriginalAmount', bins = bin_edges);"
   ]
  },
  {
   "cell_type": "markdown",
   "metadata": {},
   "source": [
    "We now recognize the top 3 most common loan amounts: \\\\$4,000, \\\\$10,000, \\\\$15,000, and there seems to be peaks at several round numbers, giving us a multimodal picture.\n",
    "\n",
    "Maybe we will see some gaps if zoom in even more on those peaks."
   ]
  },
  {
   "cell_type": "code",
   "execution_count": 23,
   "metadata": {},
   "outputs": [
    {
     "data": {
      "image/png": "[encoded data removed]",
      "text/plain": [
       "<Figure size 864x288 with 1 Axes>"
      ]
     },
     "metadata": {
      "needs_background": "light"
     },
     "output_type": "display_data"
    }
   ],
   "source": [
    "# We will use a histogram again and decrease the bin width even more.\n",
    "plt.figure(figsize = [12,4])\n",
    "bin_edges = np.arange(1000, df['LoanOriginalAmount'].max() + 100, 100)\n",
    "plt.hist(data = df, x = 'LoanOriginalAmount', bins = bin_edges);"
   ]
  },
  {
   "cell_type": "markdown",
   "metadata": {},
   "source": [
    "Now we see more clearly that the loan amounts are almost discrete. However there are some odd amounts in between with significantly fewer occurrences than the peaks.\n",
    "\n",
    "Ok. Now we have a better grasp. And it does make sense that most loan issued are in nice, round numbers."
   ]
  },
  {
   "cell_type": "markdown",
   "metadata": {},
   "source": [
    "Q: How are these loans distributed over time?"
   ]
  },
  {
   "cell_type": "markdown",
   "metadata": {},
   "source": [
    "We have both the 'ListingCreationDate' and the 'LoanOriginationDate' to answer this."
   ]
  },
  {
   "cell_type": "code",
   "execution_count": 24,
   "metadata": {
    "scrolled": false
   },
   "outputs": [
    {
     "name": "stderr",
     "output_type": "stream",
     "text": [
      "C:\\Anaconda3\\envs\\dand\\lib\\site-packages\\pandas\\plotting\\_matplotlib\\converter.py:102: FutureWarning: Using an implicitly registered datetime converter for a matplotlib plotting method. The converter was registered by pandas on import. Future versions of pandas will require you to explicitly register matplotlib converters.\n",
      "\n",
      "To register the converters:\n",
      "\t>>> from pandas.plotting import register_matplotlib_converters\n",
      "\t>>> register_matplotlib_converters()\n",
      "  warnings.warn(msg, FutureWarning)\n"
     ]
    },
    {
     "data": {
      "image/png": "[encoded data removed]",
      "text/plain": [
       "<Figure size 1008x288 with 1 Axes>"
      ]
     },
     "metadata": {
      "needs_background": "light"
     },
     "output_type": "display_data"
    }
   ],
   "source": [
    "plt.figure(figsize = [14,4])\n",
    "plt.hist(data = df, x = 'ListingCreationDate', bins = 1000);"
   ]
  },
  {
   "cell_type": "code",
   "execution_count": 85,
   "metadata": {
    "scrolled": false
   },
   "outputs": [
    {
     "data": {
      "image/png": "[encoded data removed]",
      "text/plain": [
       "<Figure size 1008x288 with 1 Axes>"
      ]
     },
     "metadata": {
      "needs_background": "light"
     },
     "output_type": "display_data"
    }
   ],
   "source": [
    "plt.figure(figsize = [14,4])\n",
    "plt.hist(data = df, x = 'LoanOriginationDate', bins = 1000);"
   ]
  },
  {
   "cell_type": "code",
   "execution_count": 87,
   "metadata": {},
   "outputs": [
    {
     "data": {
      "text/plain": [
       "<matplotlib.axes._subplots.AxesSubplot at 0x23fe24eddc8>"
      ]
     },
     "execution_count": 87,
     "metadata": {},
     "output_type": "execute_result"
    },
    {
     "data": {
      "image/png": "[encoded data removed]",
      "text/plain": [
       "<Figure size 432x288 with 1 Axes>"
      ]
     },
     "metadata": {
      "needs_background": "light"
     },
     "output_type": "display_data"
    }
   ],
   "source": [
    "df.groupby(df[\"LoanOriginationDate\"].dt.date).count().plot(kind=\"bar\")"
   ]
  },
  {
   "cell_type": "markdown",
   "metadata": {},
   "source": [
    "The two plots are very similar. This makes sense because every loan gets listed, and shortly thereafter it gets originated.\n",
    "\n",
    "Both time series show there a gap in the data between the fall of 2008 and the mid of 2009. It seems to coincide with the 2008 financial crisis. After the mid of 2009 the volume picks up for Prosper and, after a dip in late 2012, it takes off and the volume more than doubles the next 12 months!"
   ]
  },
  {
   "cell_type": "markdown",
   "metadata": {},
   "source": [
    "Q: How can the small gaps in the 'LoanOriginationDate' time series be explained?"
   ]
  },
  {
   "cell_type": "code",
   "execution_count": 26,
   "metadata": {
    "scrolled": true
   },
   "outputs": [
    {
     "data": {
      "text/plain": [
       "1    19946\n",
       "0    19594\n",
       "2    19057\n",
       "3    17962\n",
       "4    16136\n",
       "5    10758\n",
       "6    10484\n",
       "Name: ListingCreationDate, dtype: int64"
      ]
     },
     "execution_count": 26,
     "metadata": {},
     "output_type": "execute_result"
    }
   ],
   "source": [
    "# We see that a loan may be listed any day of the week, even in the weekend \n",
    "# How to read below list: 0 - Mon, 1 - Tue, 2 - Wed, 3 - Thu, 4 - Fri, 5 - Sat, 6 - Sun\n",
    "\n",
    "df.ListingCreationDate.dt.weekday.value_counts()"
   ]
  },
  {
   "cell_type": "code",
   "execution_count": 27,
   "metadata": {
    "scrolled": false
   },
   "outputs": [
    {
     "data": {
      "text/plain": [
       "1    27288\n",
       "2    25266\n",
       "4    21793\n",
       "3    21727\n",
       "0    17863\n",
       "Name: LoanOriginationDate, dtype: int64"
      ]
     },
     "execution_count": 27,
     "metadata": {},
     "output_type": "execute_result"
    }
   ],
   "source": [
    "# However, we see that a loan may not be originated on Saturdays or Sundays\n",
    "\n",
    "df.LoanOriginationDate.dt.weekday.value_counts()"
   ]
  },
  {
   "cell_type": "markdown",
   "metadata": {},
   "source": [
    "Q: What is a typical time difference between them?"
   ]
  },
  {
   "cell_type": "code",
   "execution_count": 28,
   "metadata": {},
   "outputs": [
    {
     "data": {
      "text/plain": [
       "Timedelta('9 days 00:00:00')"
      ]
     },
     "execution_count": 28,
     "metadata": {},
     "output_type": "execute_result"
    }
   ],
   "source": [
    "(df.LoanOriginationDate - df.ListingCreationDate).median()"
   ]
  },
  {
   "cell_type": "markdown",
   "metadata": {},
   "source": [
    "The median time delta from listing till origination is 9 days."
   ]
  },
  {
   "cell_type": "code",
   "execution_count": 29,
   "metadata": {},
   "outputs": [
    {
     "data": {
      "image/png": "[encoded data removed]",
      "text/plain": [
       "<Figure size 432x288 with 1 Axes>"
      ]
     },
     "metadata": {
      "needs_background": "light"
     },
     "output_type": "display_data"
    }
   ],
   "source": [
    "y = df['MemberKey'].value_counts()\n",
    "y = pd.DataFrame(y)\n",
    "#y['number_of_loans'] = y.index\n",
    "bin_edges = np.arange(0.5, 9.5 + 1, 1)\n",
    "plt.hist(data = y, x = 'MemberKey', bins = bin_edges)\n",
    "plt.yscale('log')\n",
    "plt.xticks(np.arange(1, 9 + 1, 1))\n",
    "\n",
    "plt.yticks([10, 100, 1000, 10000, 100000]);"
   ]
  },
  {
   "cell_type": "code",
   "execution_count": 30,
   "metadata": {
    "scrolled": true
   },
   "outputs": [],
   "source": [
    "x = df['MemberKey'].value_counts().value_counts()\n",
    "x = x.T\n",
    "x = pd.DataFrame(x)\n",
    "x['number_of_borrowers'] = x['MemberKey']\n",
    "x['number_of_loans'] = x.index"
   ]
  },
  {
   "cell_type": "code",
   "execution_count": 31,
   "metadata": {},
   "outputs": [
    {
     "data": {
      "text/html": [
       "<div>\n",
       "<style scoped>\n",
       "    .dataframe tbody tr th:only-of-type {\n",
       "        vertical-align: middle;\n",
       "    }\n",
       "\n",
       "    .dataframe tbody tr th {\n",
       "        vertical-align: top;\n",
       "    }\n",
       "\n",
       "    .dataframe thead th {\n",
       "        text-align: right;\n",
       "    }\n",
       "</style>\n",
       "<table border=\"1\" class=\"dataframe\">\n",
       "  <thead>\n",
       "    <tr style=\"text-align: right;\">\n",
       "      <th></th>\n",
       "      <th>MemberKey</th>\n",
       "      <th>number_of_borrowers</th>\n",
       "      <th>number_of_loans</th>\n",
       "    </tr>\n",
       "  </thead>\n",
       "  <tbody>\n",
       "    <tr>\n",
       "      <th>1</th>\n",
       "      <td>74423</td>\n",
       "      <td>74423</td>\n",
       "      <td>1</td>\n",
       "    </tr>\n",
       "    <tr>\n",
       "      <th>2</th>\n",
       "      <td>11764</td>\n",
       "      <td>11764</td>\n",
       "      <td>2</td>\n",
       "    </tr>\n",
       "    <tr>\n",
       "      <th>3</th>\n",
       "      <td>3168</td>\n",
       "      <td>3168</td>\n",
       "      <td>3</td>\n",
       "    </tr>\n",
       "    <tr>\n",
       "      <th>4</th>\n",
       "      <td>1048</td>\n",
       "      <td>1048</td>\n",
       "      <td>4</td>\n",
       "    </tr>\n",
       "    <tr>\n",
       "      <th>5</th>\n",
       "      <td>317</td>\n",
       "      <td>317</td>\n",
       "      <td>5</td>\n",
       "    </tr>\n",
       "    <tr>\n",
       "      <th>6</th>\n",
       "      <td>81</td>\n",
       "      <td>81</td>\n",
       "      <td>6</td>\n",
       "    </tr>\n",
       "    <tr>\n",
       "      <th>7</th>\n",
       "      <td>22</td>\n",
       "      <td>22</td>\n",
       "      <td>7</td>\n",
       "    </tr>\n",
       "    <tr>\n",
       "      <th>8</th>\n",
       "      <td>7</td>\n",
       "      <td>7</td>\n",
       "      <td>8</td>\n",
       "    </tr>\n",
       "    <tr>\n",
       "      <th>9</th>\n",
       "      <td>1</td>\n",
       "      <td>1</td>\n",
       "      <td>9</td>\n",
       "    </tr>\n",
       "  </tbody>\n",
       "</table>\n",
       "</div>"
      ],
      "text/plain": [
       "   MemberKey  number_of_borrowers  number_of_loans\n",
       "1      74423                74423                1\n",
       "2      11764                11764                2\n",
       "3       3168                 3168                3\n",
       "4       1048                 1048                4\n",
       "5        317                  317                5\n",
       "6         81                   81                6\n",
       "7         22                   22                7\n",
       "8          7                    7                8\n",
       "9          1                    1                9"
      ]
     },
     "execution_count": 31,
     "metadata": {},
     "output_type": "execute_result"
    }
   ],
   "source": [
    "x"
   ]
  },
  {
   "cell_type": "code",
   "execution_count": 32,
   "metadata": {},
   "outputs": [],
   "source": [
    "dfa = df[df['ListingCreationDate'].dt.year < 2009]\n",
    "dfb = df[df['ListingCreationDate'].dt.year > 2008]"
   ]
  },
  {
   "cell_type": "code",
   "execution_count": 33,
   "metadata": {
    "scrolled": false
   },
   "outputs": [
    {
     "data": {
      "text/html": [
       "<div>\n",
       "<style scoped>\n",
       "    .dataframe tbody tr th:only-of-type {\n",
       "        vertical-align: middle;\n",
       "    }\n",
       "\n",
       "    .dataframe tbody tr th {\n",
       "        vertical-align: top;\n",
       "    }\n",
       "\n",
       "    .dataframe thead th {\n",
       "        text-align: right;\n",
       "    }\n",
       "</style>\n",
       "<table border=\"1\" class=\"dataframe\">\n",
       "  <thead>\n",
       "    <tr style=\"text-align: right;\">\n",
       "      <th></th>\n",
       "      <th>BorrowerAPR</th>\n",
       "      <th>BorrowerRate</th>\n",
       "      <th>LenderYield</th>\n",
       "      <th>EstimatedEffectiveYield</th>\n",
       "      <th>EstimatedLoss</th>\n",
       "      <th>EstimatedReturn</th>\n",
       "      <th>ProsperRating (numeric)</th>\n",
       "      <th>ProsperScore</th>\n",
       "      <th>ListingCategory (numeric)</th>\n",
       "      <th>EmploymentStatusDuration</th>\n",
       "      <th>CreditScoreRangeLower</th>\n",
       "      <th>CreditScoreRangeUpper</th>\n",
       "      <th>CurrentCreditLines</th>\n",
       "      <th>OpenCreditLines</th>\n",
       "      <th>TotalCreditLinespast7years</th>\n",
       "      <th>OpenRevolvingAccounts</th>\n",
       "      <th>OpenRevolvingMonthlyPayment</th>\n",
       "      <th>InquiriesLast6Months</th>\n",
       "      <th>TotalInquiries</th>\n",
       "      <th>CurrentDelinquencies</th>\n",
       "      <th>AmountDelinquent</th>\n",
       "      <th>DelinquenciesLast7Years</th>\n",
       "      <th>PublicRecordsLast10Years</th>\n",
       "      <th>PublicRecordsLast12Months</th>\n",
       "      <th>RevolvingCreditBalance</th>\n",
       "      <th>BankcardUtilization</th>\n",
       "      <th>AvailableBankcardCredit</th>\n",
       "      <th>TotalTrades</th>\n",
       "      <th>TradesNeverDelinquent (percentage)</th>\n",
       "      <th>TradesOpenedLast6Months</th>\n",
       "      <th>DebtToIncomeRatio</th>\n",
       "      <th>StatedMonthlyIncome</th>\n",
       "      <th>TotalProsperLoans</th>\n",
       "      <th>TotalProsperPaymentsBilled</th>\n",
       "      <th>OnTimeProsperPayments</th>\n",
       "      <th>ProsperPaymentsLessThanOneMonthLate</th>\n",
       "      <th>ProsperPaymentsOneMonthPlusLate</th>\n",
       "      <th>ProsperPrincipalBorrowed</th>\n",
       "      <th>ProsperPrincipalOutstanding</th>\n",
       "      <th>ScorexChangeAtTimeOfListing</th>\n",
       "      <th>LoanCurrentDaysDelinquent</th>\n",
       "      <th>LoanFirstDefaultedCycleNumber</th>\n",
       "      <th>LoanMonthsSinceOrigination</th>\n",
       "      <th>LoanNumber</th>\n",
       "      <th>LoanOriginalAmount</th>\n",
       "      <th>MonthlyLoanPayment</th>\n",
       "      <th>LP_CustomerPayments</th>\n",
       "      <th>LP_CustomerPrincipalPayments</th>\n",
       "      <th>LP_InterestandFees</th>\n",
       "      <th>LP_ServiceFees</th>\n",
       "      <th>LP_CollectionFees</th>\n",
       "      <th>LP_GrossPrincipalLoss</th>\n",
       "      <th>LP_NetPrincipalLoss</th>\n",
       "      <th>LP_NonPrincipalRecoverypayments</th>\n",
       "      <th>PercentFunded</th>\n",
       "      <th>Recommendations</th>\n",
       "      <th>InvestmentFromFriendsCount</th>\n",
       "      <th>InvestmentFromFriendsAmount</th>\n",
       "      <th>Investors</th>\n",
       "    </tr>\n",
       "  </thead>\n",
       "  <tbody>\n",
       "    <tr>\n",
       "      <th>count</th>\n",
       "      <td>84881.000000</td>\n",
       "      <td>84881.000000</td>\n",
       "      <td>84881.000000</td>\n",
       "      <td>84853.000000</td>\n",
       "      <td>84853.000000</td>\n",
       "      <td>84853.000000</td>\n",
       "      <td>84853.000000</td>\n",
       "      <td>84853.000000</td>\n",
       "      <td>84881.000000</td>\n",
       "      <td>84862.000000</td>\n",
       "      <td>84881.000000</td>\n",
       "      <td>84881.000000</td>\n",
       "      <td>84881.000000</td>\n",
       "      <td>84881.000000</td>\n",
       "      <td>84881.000000</td>\n",
       "      <td>84881.000000</td>\n",
       "      <td>84881.000000</td>\n",
       "      <td>84881.000000</td>\n",
       "      <td>84881.000000</td>\n",
       "      <td>84881.000000</td>\n",
       "      <td>84881.000000</td>\n",
       "      <td>84881.000000</td>\n",
       "      <td>84881.000000</td>\n",
       "      <td>84881.000000</td>\n",
       "      <td>84881.000000</td>\n",
       "      <td>84881.000000</td>\n",
       "      <td>84881.000000</td>\n",
       "      <td>84881.000000</td>\n",
       "      <td>84881.000000</td>\n",
       "      <td>84881.000000</td>\n",
       "      <td>77584.000000</td>\n",
       "      <td>8.488100e+04</td>\n",
       "      <td>19822.000000</td>\n",
       "      <td>19822.000000</td>\n",
       "      <td>19822.000000</td>\n",
       "      <td>19822.000000</td>\n",
       "      <td>19822.000000</td>\n",
       "      <td>19822.000000</td>\n",
       "      <td>19822.000000</td>\n",
       "      <td>16667.000000</td>\n",
       "      <td>84881.000000</td>\n",
       "      <td>6247.000000</td>\n",
       "      <td>84881.000000</td>\n",
       "      <td>84881.000000</td>\n",
       "      <td>84881.000000</td>\n",
       "      <td>84881.000000</td>\n",
       "      <td>84881.000000</td>\n",
       "      <td>84881.000000</td>\n",
       "      <td>84881.000000</td>\n",
       "      <td>84881.000000</td>\n",
       "      <td>84881.000000</td>\n",
       "      <td>84881.000000</td>\n",
       "      <td>84881.000000</td>\n",
       "      <td>84881.000000</td>\n",
       "      <td>84881.000000</td>\n",
       "      <td>84881.000000</td>\n",
       "      <td>84881.000000</td>\n",
       "      <td>84881.000000</td>\n",
       "      <td>84881.000000</td>\n",
       "    </tr>\n",
       "    <tr>\n",
       "      <th>mean</th>\n",
       "      <td>0.226647</td>\n",
       "      <td>0.196011</td>\n",
       "      <td>0.186007</td>\n",
       "      <td>0.168661</td>\n",
       "      <td>0.080306</td>\n",
       "      <td>0.096068</td>\n",
       "      <td>4.072243</td>\n",
       "      <td>5.950067</td>\n",
       "      <td>3.312626</td>\n",
       "      <td>103.050942</td>\n",
       "      <td>699.389969</td>\n",
       "      <td>718.389969</td>\n",
       "      <td>10.508206</td>\n",
       "      <td>9.528469</td>\n",
       "      <td>27.657308</td>\n",
       "      <td>7.386093</td>\n",
       "      <td>430.658051</td>\n",
       "      <td>0.964609</td>\n",
       "      <td>4.291278</td>\n",
       "      <td>0.322345</td>\n",
       "      <td>950.460162</td>\n",
       "      <td>3.658722</td>\n",
       "      <td>0.285070</td>\n",
       "      <td>0.009166</td>\n",
       "      <td>17937.659759</td>\n",
       "      <td>0.564184</td>\n",
       "      <td>11401.432452</td>\n",
       "      <td>23.928912</td>\n",
       "      <td>0.905917</td>\n",
       "      <td>0.729916</td>\n",
       "      <td>0.258738</td>\n",
       "      <td>5.930753e+03</td>\n",
       "      <td>1.460599</td>\n",
       "      <td>24.297044</td>\n",
       "      <td>23.584149</td>\n",
       "      <td>0.660075</td>\n",
       "      <td>0.052820</td>\n",
       "      <td>8753.271916</td>\n",
       "      <td>2916.576123</td>\n",
       "      <td>-4.628247</td>\n",
       "      <td>36.648202</td>\n",
       "      <td>14.476229</td>\n",
       "      <td>16.035520</td>\n",
       "      <td>86576.173007</td>\n",
       "      <td>9081.579447</td>\n",
       "      <td>291.874869</td>\n",
       "      <td>3668.826503</td>\n",
       "      <td>2626.800692</td>\n",
       "      <td>1042.025811</td>\n",
       "      <td>-54.633773</td>\n",
       "      <td>-8.203361</td>\n",
       "      <td>375.964736</td>\n",
       "      <td>367.603578</td>\n",
       "      <td>7.644542</td>\n",
       "      <td>0.998099</td>\n",
       "      <td>0.017601</td>\n",
       "      <td>0.008047</td>\n",
       "      <td>4.314134</td>\n",
       "      <td>68.276552</td>\n",
       "    </tr>\n",
       "    <tr>\n",
       "      <th>std</th>\n",
       "      <td>0.079919</td>\n",
       "      <td>0.074634</td>\n",
       "      <td>0.074634</td>\n",
       "      <td>0.068467</td>\n",
       "      <td>0.046764</td>\n",
       "      <td>0.030403</td>\n",
       "      <td>1.673227</td>\n",
       "      <td>2.376501</td>\n",
       "      <td>4.363802</td>\n",
       "      <td>97.071403</td>\n",
       "      <td>47.095869</td>\n",
       "      <td>47.095869</td>\n",
       "      <td>5.317332</td>\n",
       "      <td>4.931419</td>\n",
       "      <td>13.267350</td>\n",
       "      <td>4.515698</td>\n",
       "      <td>425.830912</td>\n",
       "      <td>1.399768</td>\n",
       "      <td>3.828582</td>\n",
       "      <td>1.111828</td>\n",
       "      <td>7418.370900</td>\n",
       "      <td>9.346852</td>\n",
       "      <td>0.648288</td>\n",
       "      <td>0.125968</td>\n",
       "      <td>31363.095204</td>\n",
       "      <td>0.301728</td>\n",
       "      <td>18610.355338</td>\n",
       "      <td>11.609185</td>\n",
       "      <td>0.121363</td>\n",
       "      <td>0.992878</td>\n",
       "      <td>0.318298</td>\n",
       "      <td>8.238744e+03</td>\n",
       "      <td>0.790270</td>\n",
       "      <td>19.764433</td>\n",
       "      <td>19.345873</td>\n",
       "      <td>2.569429</td>\n",
       "      <td>0.583897</td>\n",
       "      <td>7540.198411</td>\n",
       "      <td>3807.201330</td>\n",
       "      <td>50.596203</td>\n",
       "      <td>150.498931</td>\n",
       "      <td>7.336501</td>\n",
       "      <td>13.911568</td>\n",
       "      <td>28896.359042</td>\n",
       "      <td>6287.801238</td>\n",
       "      <td>186.679293</td>\n",
       "      <td>4233.461427</td>\n",
       "      <td>3621.153115</td>\n",
       "      <td>1135.852285</td>\n",
       "      <td>59.724957</td>\n",
       "      <td>75.173280</td>\n",
       "      <td>1720.498825</td>\n",
       "      <td>1699.943791</td>\n",
       "      <td>119.145702</td>\n",
       "      <td>0.020738</td>\n",
       "      <td>0.188053</td>\n",
       "      <td>0.109703</td>\n",
       "      <td>116.986714</td>\n",
       "      <td>95.194034</td>\n",
       "    </tr>\n",
       "    <tr>\n",
       "      <th>min</th>\n",
       "      <td>0.045830</td>\n",
       "      <td>0.040000</td>\n",
       "      <td>0.030000</td>\n",
       "      <td>-0.182700</td>\n",
       "      <td>0.004900</td>\n",
       "      <td>-0.182700</td>\n",
       "      <td>1.000000</td>\n",
       "      <td>1.000000</td>\n",
       "      <td>0.000000</td>\n",
       "      <td>0.000000</td>\n",
       "      <td>600.000000</td>\n",
       "      <td>619.000000</td>\n",
       "      <td>0.000000</td>\n",
       "      <td>0.000000</td>\n",
       "      <td>2.000000</td>\n",
       "      <td>0.000000</td>\n",
       "      <td>0.000000</td>\n",
       "      <td>0.000000</td>\n",
       "      <td>0.000000</td>\n",
       "      <td>0.000000</td>\n",
       "      <td>0.000000</td>\n",
       "      <td>0.000000</td>\n",
       "      <td>0.000000</td>\n",
       "      <td>0.000000</td>\n",
       "      <td>0.000000</td>\n",
       "      <td>0.000000</td>\n",
       "      <td>0.000000</td>\n",
       "      <td>1.000000</td>\n",
       "      <td>0.080000</td>\n",
       "      <td>0.000000</td>\n",
       "      <td>0.000000</td>\n",
       "      <td>0.000000e+00</td>\n",
       "      <td>0.000000</td>\n",
       "      <td>0.000000</td>\n",
       "      <td>0.000000</td>\n",
       "      <td>0.000000</td>\n",
       "      <td>0.000000</td>\n",
       "      <td>0.000000</td>\n",
       "      <td>0.000000</td>\n",
       "      <td>-209.000000</td>\n",
       "      <td>0.000000</td>\n",
       "      <td>1.000000</td>\n",
       "      <td>0.000000</td>\n",
       "      <td>38030.000000</td>\n",
       "      <td>1000.000000</td>\n",
       "      <td>0.000000</td>\n",
       "      <td>-2.349900</td>\n",
       "      <td>0.000000</td>\n",
       "      <td>-2.349900</td>\n",
       "      <td>-589.950000</td>\n",
       "      <td>-4865.080000</td>\n",
       "      <td>-94.200000</td>\n",
       "      <td>-504.410000</td>\n",
       "      <td>0.000000</td>\n",
       "      <td>0.700000</td>\n",
       "      <td>0.000000</td>\n",
       "      <td>0.000000</td>\n",
       "      <td>0.000000</td>\n",
       "      <td>1.000000</td>\n",
       "    </tr>\n",
       "    <tr>\n",
       "      <th>25%</th>\n",
       "      <td>0.163280</td>\n",
       "      <td>0.135900</td>\n",
       "      <td>0.125900</td>\n",
       "      <td>0.115670</td>\n",
       "      <td>0.042400</td>\n",
       "      <td>0.074080</td>\n",
       "      <td>3.000000</td>\n",
       "      <td>4.000000</td>\n",
       "      <td>1.000000</td>\n",
       "      <td>30.000000</td>\n",
       "      <td>660.000000</td>\n",
       "      <td>679.000000</td>\n",
       "      <td>7.000000</td>\n",
       "      <td>6.000000</td>\n",
       "      <td>18.000000</td>\n",
       "      <td>4.000000</td>\n",
       "      <td>156.000000</td>\n",
       "      <td>0.000000</td>\n",
       "      <td>2.000000</td>\n",
       "      <td>0.000000</td>\n",
       "      <td>0.000000</td>\n",
       "      <td>0.000000</td>\n",
       "      <td>0.000000</td>\n",
       "      <td>0.000000</td>\n",
       "      <td>3823.000000</td>\n",
       "      <td>0.330000</td>\n",
       "      <td>1148.000000</td>\n",
       "      <td>15.000000</td>\n",
       "      <td>0.850000</td>\n",
       "      <td>0.000000</td>\n",
       "      <td>0.150000</td>\n",
       "      <td>3.433333e+03</td>\n",
       "      <td>1.000000</td>\n",
       "      <td>10.000000</td>\n",
       "      <td>9.000000</td>\n",
       "      <td>0.000000</td>\n",
       "      <td>0.000000</td>\n",
       "      <td>3787.002500</td>\n",
       "      <td>0.000000</td>\n",
       "      <td>-35.000000</td>\n",
       "      <td>0.000000</td>\n",
       "      <td>9.000000</td>\n",
       "      <td>4.000000</td>\n",
       "      <td>60928.000000</td>\n",
       "      <td>4000.000000</td>\n",
       "      <td>157.330000</td>\n",
       "      <td>798.870000</td>\n",
       "      <td>393.310000</td>\n",
       "      <td>253.900000</td>\n",
       "      <td>-72.300000</td>\n",
       "      <td>0.000000</td>\n",
       "      <td>0.000000</td>\n",
       "      <td>0.000000</td>\n",
       "      <td>0.000000</td>\n",
       "      <td>1.000000</td>\n",
       "      <td>0.000000</td>\n",
       "      <td>0.000000</td>\n",
       "      <td>0.000000</td>\n",
       "      <td>1.000000</td>\n",
       "    </tr>\n",
       "    <tr>\n",
       "      <th>50%</th>\n",
       "      <td>0.219450</td>\n",
       "      <td>0.187500</td>\n",
       "      <td>0.177500</td>\n",
       "      <td>0.161500</td>\n",
       "      <td>0.072400</td>\n",
       "      <td>0.091700</td>\n",
       "      <td>4.000000</td>\n",
       "      <td>6.000000</td>\n",
       "      <td>1.000000</td>\n",
       "      <td>74.000000</td>\n",
       "      <td>700.000000</td>\n",
       "      <td>719.000000</td>\n",
       "      <td>10.000000</td>\n",
       "      <td>9.000000</td>\n",
       "      <td>26.000000</td>\n",
       "      <td>7.000000</td>\n",
       "      <td>311.000000</td>\n",
       "      <td>0.000000</td>\n",
       "      <td>3.000000</td>\n",
       "      <td>0.000000</td>\n",
       "      <td>0.000000</td>\n",
       "      <td>0.000000</td>\n",
       "      <td>0.000000</td>\n",
       "      <td>0.000000</td>\n",
       "      <td>9323.000000</td>\n",
       "      <td>0.600000</td>\n",
       "      <td>4576.000000</td>\n",
       "      <td>23.000000</td>\n",
       "      <td>0.950000</td>\n",
       "      <td>0.000000</td>\n",
       "      <td>0.220000</td>\n",
       "      <td>5.000000e+03</td>\n",
       "      <td>1.000000</td>\n",
       "      <td>18.000000</td>\n",
       "      <td>17.000000</td>\n",
       "      <td>0.000000</td>\n",
       "      <td>0.000000</td>\n",
       "      <td>6400.000000</td>\n",
       "      <td>1590.240000</td>\n",
       "      <td>-6.000000</td>\n",
       "      <td>0.000000</td>\n",
       "      <td>13.000000</td>\n",
       "      <td>11.000000</td>\n",
       "      <td>87775.000000</td>\n",
       "      <td>7500.000000</td>\n",
       "      <td>251.840000</td>\n",
       "      <td>2214.760000</td>\n",
       "      <td>1249.990000</td>\n",
       "      <td>674.290000</td>\n",
       "      <td>-34.890000</td>\n",
       "      <td>0.000000</td>\n",
       "      <td>0.000000</td>\n",
       "      <td>0.000000</td>\n",
       "      <td>0.000000</td>\n",
       "      <td>1.000000</td>\n",
       "      <td>0.000000</td>\n",
       "      <td>0.000000</td>\n",
       "      <td>0.000000</td>\n",
       "      <td>32.000000</td>\n",
       "    </tr>\n",
       "    <tr>\n",
       "      <th>75%</th>\n",
       "      <td>0.292540</td>\n",
       "      <td>0.257400</td>\n",
       "      <td>0.247400</td>\n",
       "      <td>0.224300</td>\n",
       "      <td>0.112000</td>\n",
       "      <td>0.116600</td>\n",
       "      <td>5.000000</td>\n",
       "      <td>8.000000</td>\n",
       "      <td>3.000000</td>\n",
       "      <td>148.000000</td>\n",
       "      <td>720.000000</td>\n",
       "      <td>739.000000</td>\n",
       "      <td>13.000000</td>\n",
       "      <td>12.000000</td>\n",
       "      <td>35.000000</td>\n",
       "      <td>10.000000</td>\n",
       "      <td>563.000000</td>\n",
       "      <td>1.000000</td>\n",
       "      <td>6.000000</td>\n",
       "      <td>0.000000</td>\n",
       "      <td>0.000000</td>\n",
       "      <td>2.000000</td>\n",
       "      <td>0.000000</td>\n",
       "      <td>0.000000</td>\n",
       "      <td>20337.000000</td>\n",
       "      <td>0.830000</td>\n",
       "      <td>13911.000000</td>\n",
       "      <td>31.000000</td>\n",
       "      <td>1.000000</td>\n",
       "      <td>1.000000</td>\n",
       "      <td>0.320000</td>\n",
       "      <td>7.083333e+03</td>\n",
       "      <td>2.000000</td>\n",
       "      <td>35.000000</td>\n",
       "      <td>34.000000</td>\n",
       "      <td>0.000000</td>\n",
       "      <td>0.000000</td>\n",
       "      <td>11700.000000</td>\n",
       "      <td>4109.107500</td>\n",
       "      <td>23.000000</td>\n",
       "      <td>0.000000</td>\n",
       "      <td>19.000000</td>\n",
       "      <td>25.000000</td>\n",
       "      <td>109089.000000</td>\n",
       "      <td>13500.000000</td>\n",
       "      <td>388.330000</td>\n",
       "      <td>4870.570000</td>\n",
       "      <td>3414.330000</td>\n",
       "      <td>1435.840000</td>\n",
       "      <td>-14.270000</td>\n",
       "      <td>0.000000</td>\n",
       "      <td>0.000000</td>\n",
       "      <td>0.000000</td>\n",
       "      <td>0.000000</td>\n",
       "      <td>1.000000</td>\n",
       "      <td>0.000000</td>\n",
       "      <td>0.000000</td>\n",
       "      <td>0.000000</td>\n",
       "      <td>97.000000</td>\n",
       "    </tr>\n",
       "    <tr>\n",
       "      <th>max</th>\n",
       "      <td>0.423950</td>\n",
       "      <td>0.360000</td>\n",
       "      <td>0.340000</td>\n",
       "      <td>0.319900</td>\n",
       "      <td>0.366000</td>\n",
       "      <td>0.283700</td>\n",
       "      <td>7.000000</td>\n",
       "      <td>11.000000</td>\n",
       "      <td>20.000000</td>\n",
       "      <td>755.000000</td>\n",
       "      <td>880.000000</td>\n",
       "      <td>899.000000</td>\n",
       "      <td>59.000000</td>\n",
       "      <td>54.000000</td>\n",
       "      <td>125.000000</td>\n",
       "      <td>50.000000</td>\n",
       "      <td>13765.000000</td>\n",
       "      <td>27.000000</td>\n",
       "      <td>78.000000</td>\n",
       "      <td>51.000000</td>\n",
       "      <td>463881.000000</td>\n",
       "      <td>99.000000</td>\n",
       "      <td>38.000000</td>\n",
       "      <td>20.000000</td>\n",
       "      <td>999165.000000</td>\n",
       "      <td>2.500000</td>\n",
       "      <td>498374.000000</td>\n",
       "      <td>122.000000</td>\n",
       "      <td>1.000000</td>\n",
       "      <td>20.000000</td>\n",
       "      <td>10.010000</td>\n",
       "      <td>1.750003e+06</td>\n",
       "      <td>8.000000</td>\n",
       "      <td>141.000000</td>\n",
       "      <td>141.000000</td>\n",
       "      <td>42.000000</td>\n",
       "      <td>21.000000</td>\n",
       "      <td>72499.000000</td>\n",
       "      <td>23450.950000</td>\n",
       "      <td>286.000000</td>\n",
       "      <td>1593.000000</td>\n",
       "      <td>41.000000</td>\n",
       "      <td>58.000000</td>\n",
       "      <td>136486.000000</td>\n",
       "      <td>35000.000000</td>\n",
       "      <td>2251.510000</td>\n",
       "      <td>37369.160000</td>\n",
       "      <td>35000.000000</td>\n",
       "      <td>10572.780000</td>\n",
       "      <td>3.010000</td>\n",
       "      <td>0.000000</td>\n",
       "      <td>25000.000000</td>\n",
       "      <td>25000.000000</td>\n",
       "      <td>7780.030000</td>\n",
       "      <td>1.012500</td>\n",
       "      <td>19.000000</td>\n",
       "      <td>9.000000</td>\n",
       "      <td>11000.000000</td>\n",
       "      <td>1189.000000</td>\n",
       "    </tr>\n",
       "  </tbody>\n",
       "</table>\n",
       "</div>"
      ],
      "text/plain": [
       "        BorrowerAPR  BorrowerRate   LenderYield  EstimatedEffectiveYield  \\\n",
       "count  84881.000000  84881.000000  84881.000000             84853.000000   \n",
       "mean       0.226647      0.196011      0.186007                 0.168661   \n",
       "std        0.079919      0.074634      0.074634                 0.068467   \n",
       "min        0.045830      0.040000      0.030000                -0.182700   \n",
       "25%        0.163280      0.135900      0.125900                 0.115670   \n",
       "50%        0.219450      0.187500      0.177500                 0.161500   \n",
       "75%        0.292540      0.257400      0.247400                 0.224300   \n",
       "max        0.423950      0.360000      0.340000                 0.319900   \n",
       "\n",
       "       EstimatedLoss  EstimatedReturn  ProsperRating (numeric)  ProsperScore  \\\n",
       "count   84853.000000     84853.000000             84853.000000  84853.000000   \n",
       "mean        0.080306         0.096068                 4.072243      5.950067   \n",
       "std         0.046764         0.030403                 1.673227      2.376501   \n",
       "min         0.004900        -0.182700                 1.000000      1.000000   \n",
       "25%         0.042400         0.074080                 3.000000      4.000000   \n",
       "50%         0.072400         0.091700                 4.000000      6.000000   \n",
       "75%         0.112000         0.116600                 5.000000      8.000000   \n",
       "max         0.366000         0.283700                 7.000000     11.000000   \n",
       "\n",
       "       ListingCategory (numeric)  EmploymentStatusDuration  \\\n",
       "count               84881.000000              84862.000000   \n",
       "mean                    3.312626                103.050942   \n",
       "std                     4.363802                 97.071403   \n",
       "min                     0.000000                  0.000000   \n",
       "25%                     1.000000                 30.000000   \n",
       "50%                     1.000000                 74.000000   \n",
       "75%                     3.000000                148.000000   \n",
       "max                    20.000000                755.000000   \n",
       "\n",
       "       CreditScoreRangeLower  CreditScoreRangeUpper  CurrentCreditLines  \\\n",
       "count           84881.000000           84881.000000        84881.000000   \n",
       "mean              699.389969             718.389969           10.508206   \n",
       "std                47.095869              47.095869            5.317332   \n",
       "min               600.000000             619.000000            0.000000   \n",
       "25%               660.000000             679.000000            7.000000   \n",
       "50%               700.000000             719.000000           10.000000   \n",
       "75%               720.000000             739.000000           13.000000   \n",
       "max               880.000000             899.000000           59.000000   \n",
       "\n",
       "       OpenCreditLines  TotalCreditLinespast7years  OpenRevolvingAccounts  \\\n",
       "count     84881.000000                84881.000000           84881.000000   \n",
       "mean          9.528469                   27.657308               7.386093   \n",
       "std           4.931419                   13.267350               4.515698   \n",
       "min           0.000000                    2.000000               0.000000   \n",
       "25%           6.000000                   18.000000               4.000000   \n",
       "50%           9.000000                   26.000000               7.000000   \n",
       "75%          12.000000                   35.000000              10.000000   \n",
       "max          54.000000                  125.000000              50.000000   \n",
       "\n",
       "       OpenRevolvingMonthlyPayment  InquiriesLast6Months  TotalInquiries  \\\n",
       "count                 84881.000000          84881.000000    84881.000000   \n",
       "mean                    430.658051              0.964609        4.291278   \n",
       "std                     425.830912              1.399768        3.828582   \n",
       "min                       0.000000              0.000000        0.000000   \n",
       "25%                     156.000000              0.000000        2.000000   \n",
       "50%                     311.000000              0.000000        3.000000   \n",
       "75%                     563.000000              1.000000        6.000000   \n",
       "max                   13765.000000             27.000000       78.000000   \n",
       "\n",
       "       CurrentDelinquencies  AmountDelinquent  DelinquenciesLast7Years  \\\n",
       "count          84881.000000      84881.000000             84881.000000   \n",
       "mean               0.322345        950.460162                 3.658722   \n",
       "std                1.111828       7418.370900                 9.346852   \n",
       "min                0.000000          0.000000                 0.000000   \n",
       "25%                0.000000          0.000000                 0.000000   \n",
       "50%                0.000000          0.000000                 0.000000   \n",
       "75%                0.000000          0.000000                 2.000000   \n",
       "max               51.000000     463881.000000                99.000000   \n",
       "\n",
       "       PublicRecordsLast10Years  PublicRecordsLast12Months  \\\n",
       "count              84881.000000               84881.000000   \n",
       "mean                   0.285070                   0.009166   \n",
       "std                    0.648288                   0.125968   \n",
       "min                    0.000000                   0.000000   \n",
       "25%                    0.000000                   0.000000   \n",
       "50%                    0.000000                   0.000000   \n",
       "75%                    0.000000                   0.000000   \n",
       "max                   38.000000                  20.000000   \n",
       "\n",
       "       RevolvingCreditBalance  BankcardUtilization  AvailableBankcardCredit  \\\n",
       "count            84881.000000         84881.000000             84881.000000   \n",
       "mean             17937.659759             0.564184             11401.432452   \n",
       "std              31363.095204             0.301728             18610.355338   \n",
       "min                  0.000000             0.000000                 0.000000   \n",
       "25%               3823.000000             0.330000              1148.000000   \n",
       "50%               9323.000000             0.600000              4576.000000   \n",
       "75%              20337.000000             0.830000             13911.000000   \n",
       "max             999165.000000             2.500000            498374.000000   \n",
       "\n",
       "        TotalTrades  TradesNeverDelinquent (percentage)  \\\n",
       "count  84881.000000                        84881.000000   \n",
       "mean      23.928912                            0.905917   \n",
       "std       11.609185                            0.121363   \n",
       "min        1.000000                            0.080000   \n",
       "25%       15.000000                            0.850000   \n",
       "50%       23.000000                            0.950000   \n",
       "75%       31.000000                            1.000000   \n",
       "max      122.000000                            1.000000   \n",
       "\n",
       "       TradesOpenedLast6Months  DebtToIncomeRatio  StatedMonthlyIncome  \\\n",
       "count             84881.000000       77584.000000         8.488100e+04   \n",
       "mean                  0.729916           0.258738         5.930753e+03   \n",
       "std                   0.992878           0.318298         8.238744e+03   \n",
       "min                   0.000000           0.000000         0.000000e+00   \n",
       "25%                   0.000000           0.150000         3.433333e+03   \n",
       "50%                   0.000000           0.220000         5.000000e+03   \n",
       "75%                   1.000000           0.320000         7.083333e+03   \n",
       "max                  20.000000          10.010000         1.750003e+06   \n",
       "\n",
       "       TotalProsperLoans  TotalProsperPaymentsBilled  OnTimeProsperPayments  \\\n",
       "count       19822.000000                19822.000000           19822.000000   \n",
       "mean            1.460599                   24.297044              23.584149   \n",
       "std             0.790270                   19.764433              19.345873   \n",
       "min             0.000000                    0.000000               0.000000   \n",
       "25%             1.000000                   10.000000               9.000000   \n",
       "50%             1.000000                   18.000000              17.000000   \n",
       "75%             2.000000                   35.000000              34.000000   \n",
       "max             8.000000                  141.000000             141.000000   \n",
       "\n",
       "       ProsperPaymentsLessThanOneMonthLate  ProsperPaymentsOneMonthPlusLate  \\\n",
       "count                         19822.000000                     19822.000000   \n",
       "mean                              0.660075                         0.052820   \n",
       "std                               2.569429                         0.583897   \n",
       "min                               0.000000                         0.000000   \n",
       "25%                               0.000000                         0.000000   \n",
       "50%                               0.000000                         0.000000   \n",
       "75%                               0.000000                         0.000000   \n",
       "max                              42.000000                        21.000000   \n",
       "\n",
       "       ProsperPrincipalBorrowed  ProsperPrincipalOutstanding  \\\n",
       "count              19822.000000                 19822.000000   \n",
       "mean                8753.271916                  2916.576123   \n",
       "std                 7540.198411                  3807.201330   \n",
       "min                    0.000000                     0.000000   \n",
       "25%                 3787.002500                     0.000000   \n",
       "50%                 6400.000000                  1590.240000   \n",
       "75%                11700.000000                  4109.107500   \n",
       "max                72499.000000                 23450.950000   \n",
       "\n",
       "       ScorexChangeAtTimeOfListing  LoanCurrentDaysDelinquent  \\\n",
       "count                 16667.000000               84881.000000   \n",
       "mean                     -4.628247                  36.648202   \n",
       "std                      50.596203                 150.498931   \n",
       "min                    -209.000000                   0.000000   \n",
       "25%                     -35.000000                   0.000000   \n",
       "50%                      -6.000000                   0.000000   \n",
       "75%                      23.000000                   0.000000   \n",
       "max                     286.000000                1593.000000   \n",
       "\n",
       "       LoanFirstDefaultedCycleNumber  LoanMonthsSinceOrigination  \\\n",
       "count                    6247.000000                84881.000000   \n",
       "mean                       14.476229                   16.035520   \n",
       "std                         7.336501                   13.911568   \n",
       "min                         1.000000                    0.000000   \n",
       "25%                         9.000000                    4.000000   \n",
       "50%                        13.000000                   11.000000   \n",
       "75%                        19.000000                   25.000000   \n",
       "max                        41.000000                   58.000000   \n",
       "\n",
       "          LoanNumber  LoanOriginalAmount  MonthlyLoanPayment  \\\n",
       "count   84881.000000        84881.000000        84881.000000   \n",
       "mean    86576.173007         9081.579447          291.874869   \n",
       "std     28896.359042         6287.801238          186.679293   \n",
       "min     38030.000000         1000.000000            0.000000   \n",
       "25%     60928.000000         4000.000000          157.330000   \n",
       "50%     87775.000000         7500.000000          251.840000   \n",
       "75%    109089.000000        13500.000000          388.330000   \n",
       "max    136486.000000        35000.000000         2251.510000   \n",
       "\n",
       "       LP_CustomerPayments  LP_CustomerPrincipalPayments  LP_InterestandFees  \\\n",
       "count         84881.000000                  84881.000000        84881.000000   \n",
       "mean           3668.826503                   2626.800692         1042.025811   \n",
       "std            4233.461427                   3621.153115         1135.852285   \n",
       "min              -2.349900                      0.000000           -2.349900   \n",
       "25%             798.870000                    393.310000          253.900000   \n",
       "50%            2214.760000                   1249.990000          674.290000   \n",
       "75%            4870.570000                   3414.330000         1435.840000   \n",
       "max           37369.160000                  35000.000000        10572.780000   \n",
       "\n",
       "       LP_ServiceFees  LP_CollectionFees  LP_GrossPrincipalLoss  \\\n",
       "count    84881.000000       84881.000000           84881.000000   \n",
       "mean       -54.633773          -8.203361             375.964736   \n",
       "std         59.724957          75.173280            1720.498825   \n",
       "min       -589.950000       -4865.080000             -94.200000   \n",
       "25%        -72.300000           0.000000               0.000000   \n",
       "50%        -34.890000           0.000000               0.000000   \n",
       "75%        -14.270000           0.000000               0.000000   \n",
       "max          3.010000           0.000000           25000.000000   \n",
       "\n",
       "       LP_NetPrincipalLoss  LP_NonPrincipalRecoverypayments  PercentFunded  \\\n",
       "count         84881.000000                     84881.000000   84881.000000   \n",
       "mean            367.603578                         7.644542       0.998099   \n",
       "std            1699.943791                       119.145702       0.020738   \n",
       "min            -504.410000                         0.000000       0.700000   \n",
       "25%               0.000000                         0.000000       1.000000   \n",
       "50%               0.000000                         0.000000       1.000000   \n",
       "75%               0.000000                         0.000000       1.000000   \n",
       "max           25000.000000                      7780.030000       1.012500   \n",
       "\n",
       "       Recommendations  InvestmentFromFriendsCount  \\\n",
       "count     84881.000000                84881.000000   \n",
       "mean          0.017601                    0.008047   \n",
       "std           0.188053                    0.109703   \n",
       "min           0.000000                    0.000000   \n",
       "25%           0.000000                    0.000000   \n",
       "50%           0.000000                    0.000000   \n",
       "75%           0.000000                    0.000000   \n",
       "max          19.000000                    9.000000   \n",
       "\n",
       "       InvestmentFromFriendsAmount     Investors  \n",
       "count                 84881.000000  84881.000000  \n",
       "mean                      4.314134     68.276552  \n",
       "std                     116.986714     95.194034  \n",
       "min                       0.000000      1.000000  \n",
       "25%                       0.000000      1.000000  \n",
       "50%                       0.000000     32.000000  \n",
       "75%                       0.000000     97.000000  \n",
       "max                   11000.000000   1189.000000  "
      ]
     },
     "execution_count": 33,
     "metadata": {},
     "output_type": "execute_result"
    }
   ],
   "source": [
    "dfb.describe()"
   ]
  },
  {
   "cell_type": "code",
   "execution_count": 34,
   "metadata": {},
   "outputs": [
    {
     "name": "stdout",
     "output_type": "stream",
     "text": [
      "CreditScoreRangeLower min/max:\n",
      "600.0\n",
      "880.0\n",
      "\n",
      "\n",
      "CreditScoreRangeUpper min/max:\n",
      "619.0\n",
      "899.0\n"
     ]
    }
   ],
   "source": [
    "print('CreditScoreRangeLower min/max:')\n",
    "print(dfb['CreditScoreRangeLower'].min())\n",
    "print(dfb['CreditScoreRangeLower'].max())\n",
    "print('\\n')\n",
    "print('CreditScoreRangeUpper min/max:')\n",
    "print(dfb['CreditScoreRangeUpper'].min())\n",
    "print(dfb['CreditScoreRangeUpper'].max())"
   ]
  },
  {
   "cell_type": "code",
   "execution_count": 35,
   "metadata": {
    "scrolled": false
   },
   "outputs": [
    {
     "data": {
      "image/png": "[encoded data removed]",
      "text/plain": [
       "<Figure size 504x432 with 1 Axes>"
      ]
     },
     "metadata": {
      "needs_background": "light"
     },
     "output_type": "display_data"
    }
   ],
   "source": [
    "base_color = sb.color_palette()[0]\n",
    "plt.subplots(figsize = [7,6])\n",
    "sb.countplot(data = dfb, y = 'ListingCategory', color = base_color, order = list(d.values()));\n",
    "plt.title(\"Number of Loans per Listing Category\")\n",
    "plt.xscale('log')\n",
    "tick_locs = [3, 10, 30, 100, 300, 1000, 3000, 10000, 30000, 100000]\n",
    "plt.xticks(tick_locs, tick_locs)\n",
    "plt.xlabel(\"Number of Loans (log scale)\")\n",
    "plt.ylabel(\"Listing Category\");"
   ]
  },
  {
   "cell_type": "code",
   "execution_count": 36,
   "metadata": {
    "scrolled": false
   },
   "outputs": [
    {
     "data": {
      "image/png": "[encoded data removed]",
      "text/plain": [
       "<Figure size 504x432 with 1 Axes>"
      ]
     },
     "metadata": {
      "needs_background": "light"
     },
     "output_type": "display_data"
    }
   ],
   "source": [
    "base_color = sb.color_palette()[0]\n",
    "plt.subplots(figsize = [7,6])\n",
    "sb.countplot(data = dfb, x = 'ProsperScore', color = base_color)\n",
    "plt.title(\"Number of Loans per Prosper Score rating (2009-)\")\n",
    "plt.xlabel(\"Number of Loans\")\n",
    "plt.ylabel(\"Prosper Score\");"
   ]
  },
  {
   "cell_type": "code",
   "execution_count": 37,
   "metadata": {},
   "outputs": [
    {
     "data": {
      "image/png": "[encoded data removed]",
      "text/plain": [
       "<Figure size 504x216 with 1 Axes>"
      ]
     },
     "metadata": {
      "needs_background": "light"
     },
     "output_type": "display_data"
    }
   ],
   "source": [
    "tick_locs = [3, 10, 30, 100, 300, 1000, 3000, 10000, 30000]\n",
    "base_color = sb.color_palette()[0]\n",
    "plt.subplots(figsize = [7,3])\n",
    "sb.countplot(data = df, y = 'LoanStatus', color = base_color);\n",
    "plt.title(\"Number of Loans per Loan Status\")\n",
    "plt.xscale('log')\n",
    "plt.xticks(tick_locs, tick_locs)\n",
    "plt.xlabel(\"Number of Loans (log scale)\")\n",
    "plt.ylabel(\"Loan Status\");"
   ]
  },
  {
   "cell_type": "code",
   "execution_count": 38,
   "metadata": {
    "scrolled": true
   },
   "outputs": [
    {
     "data": {
      "image/png": "[encoded data removed]",
      "text/plain": [
       "<Figure size 504x216 with 1 Axes>"
      ]
     },
     "metadata": {
      "needs_background": "light"
     },
     "output_type": "display_data"
    }
   ],
   "source": [
    "base_color = sb.color_palette()[0]\n",
    "plt.subplots(figsize = [7,3])\n",
    "sb.countplot(data = df, y = 'IncomeRange', color = base_color);\n",
    "plt.title(\"Number of Loans per Income Range\")\n",
    "plt.xlabel(\"Number of Loans\")\n",
    "plt.ylabel(\"Income Range\");"
   ]
  },
  {
   "cell_type": "code",
   "execution_count": 39,
   "metadata": {
    "scrolled": true
   },
   "outputs": [
    {
     "data": {
      "image/png": "[encoded data removed]",
      "text/plain": [
       "<Figure size 288x288 with 1 Axes>"
      ]
     },
     "metadata": {
      "needs_background": "light"
     },
     "output_type": "display_data"
    }
   ],
   "source": [
    "base_color = sb.color_palette()[0]\n",
    "plt.subplots(figsize = [4,4])\n",
    "sb.countplot(data = df, x = 'Term', color = base_color);\n",
    "plt.title(\"Number of Loans per Term duration\")\n",
    "plt.ylabel(\"Number of Loans\")\n",
    "plt.xlabel(\"Term duration (in Months)\");"
   ]
  },
  {
   "cell_type": "code",
   "execution_count": 40,
   "metadata": {
    "scrolled": false
   },
   "outputs": [
    {
     "data": {
      "image/png": "[encoded data removed]",
      "text/plain": [
       "<Figure size 504x360 with 1 Axes>"
      ]
     },
     "metadata": {
      "needs_background": "light"
     },
     "output_type": "display_data"
    }
   ],
   "source": [
    "bins = np.arange(0.045, df['BorrowerAPR'].max() + 0.01, 0.01)\n",
    "plt.subplots(figsize = [7,5])\n",
    "plt.hist(df['BorrowerAPR'], bins = bins)\n",
    "plt.title(\"Histogram: Borrower APR\")\n",
    "plt.xlabel(\"Borrower APR\");"
   ]
  },
  {
   "cell_type": "code",
   "execution_count": 41,
   "metadata": {
    "scrolled": false
   },
   "outputs": [
    {
     "data": {
      "image/png": "[encoded data removed]",
      "text/plain": [
       "<Figure size 1080x864 with 9 Axes>"
      ]
     },
     "metadata": {
      "needs_background": "light"
     },
     "output_type": "display_data"
    }
   ],
   "source": [
    "plt.figure(figsize = [15,12])\n",
    "\n",
    "plt.subplot(3,3,1) # 3 rows x 3 columns - subplot #1\n",
    "bin_width = 0.03\n",
    "start = 0.05 - bin_width/2\n",
    "bin_edges = np.arange(start, df['BorrowerAPR'].max() + bin_width, bin_width)\n",
    "plt.hist(data = df, x = 'BorrowerAPR', bins = bin_edges)\n",
    "plt.xticks(np.arange(0.05, 0.40 + 0.05, 0.05))\n",
    "plt.xlabel('Borrower APR')\n",
    "plt.title('Histogram - large bin width')\n",
    "\n",
    "plt.subplot(3,3,2) # 3 rows x 3 columns - subplot #2\n",
    "bin_width = 0.01\n",
    "start = 0.05 - bin_width/2\n",
    "bin_edges = np.arange(start, df['BorrowerAPR'].max() + bin_width, bin_width)\n",
    "plt.hist(data = df, x = 'BorrowerAPR', bins = bin_edges)\n",
    "plt.xticks(np.arange(0.05, 0.40 + 0.05, 0.05))\n",
    "plt.xlabel('Borrower APR')\n",
    "plt.title('Histogram - medium bin width')\n",
    "\n",
    "plt.subplot(3,3,3) # 3 rows x 3 columns - subplot #3\n",
    "bin_width = 0.002\n",
    "start = 0.05 - bin_width/2\n",
    "bin_edges = np.arange(start, df['BorrowerAPR'].max() + bin_width, bin_width)\n",
    "plt.hist(data = df, x = 'BorrowerAPR', bins = bin_edges)\n",
    "plt.xticks(np.arange(0.05, 0.40 + 0.05, 0.05))\n",
    "plt.xlabel('Borrower APR')\n",
    "plt.title('Histogram - small bin width')\n",
    "\n",
    "plt.subplot(3,3,4) # 3 rows x 3 columns - subplot #4\n",
    "bin_width = 0.03\n",
    "start = 0.05 - bin_width/2\n",
    "bin_edges = np.arange(start, df['BorrowerRate'].max() + bin_width, bin_width)\n",
    "plt.hist(data = df, x = 'BorrowerRate', bins = bin_edges)\n",
    "plt.xticks(np.arange(0.05, 0.40 + 0.05, 0.05))\n",
    "plt.xlabel('Borrower rate')\n",
    "\n",
    "plt.subplot(3,3,5) # 3 rows x 3 columns - subplot #5\n",
    "bin_width = 0.01\n",
    "start = 0.05 - bin_width/2\n",
    "bin_edges = np.arange(start, df['BorrowerRate'].max() + bin_width, bin_width)\n",
    "plt.hist(data = df, x = 'BorrowerRate', bins = bin_edges)\n",
    "plt.xticks(np.arange(0.05, 0.40 + 0.05, 0.05))\n",
    "plt.xlabel('Borrower rate')\n",
    "\n",
    "plt.subplot(3,3,6) # 3 rows x 3 columns - subplot #6\n",
    "bin_width = 0.002\n",
    "start = 0.05 - bin_width/2\n",
    "bin_edges = np.arange(start, df['BorrowerRate'].max() + bin_width, bin_width)\n",
    "plt.hist(data = df, x = 'BorrowerRate', bins = bin_edges)\n",
    "plt.xticks(np.arange(0.05, 0.40 + 0.05, 0.05))\n",
    "plt.xlabel('Borrower rate')\n",
    "\n",
    "plt.subplot(3,3,7) # 3 rows x 3 columns - subplot #7\n",
    "bin_width = 0.03\n",
    "start = 0.05 - bin_width/2\n",
    "bin_edges = np.arange(start, df['LenderYield'].max() + bin_width, bin_width)\n",
    "plt.hist(data = df, x = 'LenderYield', bins = bin_edges)\n",
    "plt.xticks(np.arange(0.05, 0.40 + 0.05, 0.05))\n",
    "plt.xlabel('Lender yield')\n",
    "\n",
    "plt.subplot(3,3,8) # 3 rows x 3 columns - subplot #8\n",
    "bin_width = 0.01\n",
    "start = 0.05 - bin_width/2\n",
    "bin_edges = np.arange(start, df['LenderYield'].max() + bin_width, bin_width)\n",
    "plt.hist(data = df, x = 'LenderYield', bins = bin_edges)\n",
    "plt.xticks(np.arange(0.05, 0.40 + 0.05, 0.05))\n",
    "plt.xlabel('Lender yield')\n",
    "\n",
    "plt.subplot(3,3,9) # 3 rows x 3 columns - subplot #9\n",
    "bin_width = 0.002\n",
    "start = 0.05 - bin_width/2\n",
    "bin_edges = np.arange(start, df['LenderYield'].max() + bin_width, bin_width)\n",
    "plt.hist(data = df, x = 'LenderYield', bins = bin_edges)\n",
    "plt.xticks(np.arange(0.05, 0.40 + 0.05, 0.05))\n",
    "plt.xlabel('Lender yield');"
   ]
  },
  {
   "cell_type": "code",
   "execution_count": 42,
   "metadata": {},
   "outputs": [
    {
     "name": "stdout",
     "output_type": "stream",
     "text": [
      "top 3 value counts:\n",
      "\n",
      "\n",
      "         BorrowerAPR\n",
      "0.35797         3672\n",
      "0.35643         1644\n",
      "0.37453         1260\n",
      "\n",
      "\n",
      "        BorrowerRate\n",
      "0.3177          3672\n",
      "0.3500          1905\n",
      "0.3199          1651\n",
      "\n",
      "\n",
      "        LenderYield\n",
      "0.3077         3672\n",
      "0.3400         1916\n",
      "0.3099         1651\n"
     ]
    }
   ],
   "source": [
    "rate_cols = ['BorrowerAPR', 'BorrowerRate', 'LenderYield']\n",
    "\n",
    "print('top 3 value counts:')\n",
    "\n",
    "for col in rate_cols:\n",
    "    x = df[col].value_counts().to_frame()\n",
    "    print('\\n')\n",
    "    print(x.head(3))"
   ]
  },
  {
   "cell_type": "code",
   "execution_count": 43,
   "metadata": {
    "scrolled": false
   },
   "outputs": [
    {
     "ename": "NameError",
     "evalue": "name 'dfx' is not defined",
     "output_type": "error",
     "traceback": [
      "\u001b[1;31m---------------------------------------------------------------------------\u001b[0m",
      "\u001b[1;31mNameError\u001b[0m                                 Traceback (most recent call last)",
      "\u001b[1;32m<ipython-input-43-b086330ca12d>\u001b[0m in \u001b[0;36m<module>\u001b[1;34m\u001b[0m\n\u001b[0;32m      2\u001b[0m \u001b[1;33m\u001b[0m\u001b[0m\n\u001b[0;32m      3\u001b[0m \u001b[0mplt\u001b[0m\u001b[1;33m.\u001b[0m\u001b[0msubplot\u001b[0m\u001b[1;33m(\u001b[0m\u001b[1;36m2\u001b[0m\u001b[1;33m,\u001b[0m\u001b[1;36m3\u001b[0m\u001b[1;33m,\u001b[0m\u001b[1;36m1\u001b[0m\u001b[1;33m)\u001b[0m \u001b[1;31m# 2 rows x 3 columns - subplot #1\u001b[0m\u001b[1;33m\u001b[0m\u001b[1;33m\u001b[0m\u001b[0m\n\u001b[1;32m----> 4\u001b[1;33m \u001b[0mbin_edges\u001b[0m \u001b[1;33m=\u001b[0m \u001b[0mnp\u001b[0m\u001b[1;33m.\u001b[0m\u001b[0marange\u001b[0m\u001b[1;33m(\u001b[0m\u001b[1;36m550\u001b[0m\u001b[1;33m,\u001b[0m \u001b[0mdfx\u001b[0m\u001b[1;33m[\u001b[0m\u001b[1;34m'CreditScoreRangeUpper'\u001b[0m\u001b[1;33m]\u001b[0m\u001b[1;33m.\u001b[0m\u001b[0mmax\u001b[0m\u001b[1;33m(\u001b[0m\u001b[1;33m)\u001b[0m \u001b[1;33m+\u001b[0m \u001b[1;36m30\u001b[0m\u001b[1;33m,\u001b[0m \u001b[1;36m30\u001b[0m\u001b[1;33m)\u001b[0m\u001b[1;33m\u001b[0m\u001b[1;33m\u001b[0m\u001b[0m\n\u001b[0m\u001b[0;32m      5\u001b[0m \u001b[0mplt\u001b[0m\u001b[1;33m.\u001b[0m\u001b[0mhist\u001b[0m\u001b[1;33m(\u001b[0m\u001b[0mdata\u001b[0m \u001b[1;33m=\u001b[0m \u001b[0mdfx\u001b[0m\u001b[1;33m,\u001b[0m \u001b[0mx\u001b[0m \u001b[1;33m=\u001b[0m \u001b[1;34m'CreditScoreRangeLower'\u001b[0m\u001b[1;33m,\u001b[0m \u001b[0mbins\u001b[0m \u001b[1;33m=\u001b[0m \u001b[0mbin_edges\u001b[0m\u001b[1;33m)\u001b[0m\u001b[1;33m\u001b[0m\u001b[1;33m\u001b[0m\u001b[0m\n\u001b[0;32m      6\u001b[0m \u001b[0mplt\u001b[0m\u001b[1;33m.\u001b[0m\u001b[0mxlabel\u001b[0m\u001b[1;33m(\u001b[0m\u001b[1;34m'CreditScoreRangeLower, bin width 30'\u001b[0m\u001b[1;33m)\u001b[0m\u001b[1;33m\u001b[0m\u001b[1;33m\u001b[0m\u001b[0m\n",
      "\u001b[1;31mNameError\u001b[0m: name 'dfx' is not defined"
     ]
    },
    {
     "data": {
      "image/png": "[encoded data removed]",
      "text/plain": [
       "<Figure size 1080x576 with 1 Axes>"
      ]
     },
     "metadata": {
      "needs_background": "light"
     },
     "output_type": "display_data"
    }
   ],
   "source": [
    "plt.figure(figsize = [15,8])\n",
    "\n",
    "plt.subplot(2,3,1) # 2 rows x 3 columns - subplot #1\n",
    "bin_edges = np.arange(550, dfx['CreditScoreRangeUpper'].max() + 30, 30)\n",
    "plt.hist(data = dfx, x = 'CreditScoreRangeLower', bins = bin_edges)\n",
    "plt.xlabel('CreditScoreRangeLower, bin width 30')\n",
    "plt.title('Histogram - large bin width')\n",
    "\n",
    "plt.subplot(2,3,2) # 2 rows x 3 columns - subplot #2\n",
    "bin_edges = np.arange(550, dfx['CreditScoreRangeUpper'].max() + 10, 10)\n",
    "plt.hist(data = dfx, x = 'CreditScoreRangeLower', bins = bin_edges)\n",
    "plt.xlabel('CreditScoreRangeLower, bin width 10')\n",
    "plt.title('Histogram - medium bin width')\n",
    "\n",
    "plt.subplot(2,3,3) # 2 rows x 3 columns - subplot #3\n",
    "bin_edges = np.arange(550, dfx['CreditScoreRangeUpper'].max() + 5, 5)\n",
    "plt.hist(data = dfx, x = 'CreditScoreRangeLower', bins = bin_edges)\n",
    "plt.xlabel('CreditScoreRangeLower, bin width 5')\n",
    "plt.title('Histogram - small bin width')\n",
    "\n",
    "plt.subplot(2,3,4) # 2 rows x 3 columns - subplot #4\n",
    "bin_edges = np.arange(550, dfx['CreditScoreRangeUpper'].max() + 30, 30)\n",
    "plt.hist(data = dfx, x = 'CreditScoreRangeUpper', bins = bin_edges)\n",
    "plt.xlabel('CreditScoreRangeUpper')\n",
    "\n",
    "plt.subplot(2,3,5) # 2 rows x 3 columns - subplot #5\n",
    "bin_edges = np.arange(550, dfx['CreditScoreRangeUpper'].max() + 10, 10)\n",
    "plt.hist(data = dfx, x = 'CreditScoreRangeUpper', bins = bin_edges)\n",
    "plt.xlabel('CreditScoreRangeUpper')\n",
    "\n",
    "plt.subplot(2,3,6) # 2 rows x 3 columns - subplot #6\n",
    "bin_edges = np.arange(550, dfx['CreditScoreRangeUpper'].max() + 5, 5)\n",
    "plt.hist(data = dfx, x = 'CreditScoreRangeUpper', bins = bin_edges)\n",
    "plt.xlabel('CreditScoreRangeUpper');"
   ]
  },
  {
   "cell_type": "code",
   "execution_count": null,
   "metadata": {},
   "outputs": [],
   "source": [
    "x = (dfx.CreditScoreRangeLower + dfx.CreditScoreRangeUpper)/2\n",
    "x.hist(bins=100);"
   ]
  },
  {
   "cell_type": "code",
   "execution_count": null,
   "metadata": {
    "scrolled": true
   },
   "outputs": [],
   "source": [
    "y = dfx.CreditScoreRangeUpper/dfx.CreditScoreRangeLower\n",
    "list(y.value_counts().index)"
   ]
  },
  {
   "cell_type": "code",
   "execution_count": null,
   "metadata": {},
   "outputs": [],
   "source": [
    "y = dfx.CreditScoreRangeLower\n",
    "list(y.value_counts().index)"
   ]
  },
  {
   "cell_type": "markdown",
   "metadata": {},
   "source": [
    "### Discuss the distribution(s) of your variable(s) of interest. Were there any unusual points? Did you need to perform any transformations?\n",
    "\n",
    "> Your answer here!\n",
    "\n",
    "### Of the features you investigated, were there any unusual distributions? Did you perform any operations on the data to tidy, adjust, or change the form of the data? If so, why did you do this?\n",
    "\n",
    "> Your answer here!"
   ]
  },
  {
   "cell_type": "markdown",
   "metadata": {},
   "source": [
    "## Bivariate Exploration\n",
    "\n",
    "> In this section, investigate relationships between pairs of variables in your\n",
    "data. Make sure the variables that you cover here have been introduced in some\n",
    "fashion in the previous section (univariate exploration)."
   ]
  },
  {
   "cell_type": "code",
   "execution_count": null,
   "metadata": {},
   "outputs": [],
   "source": [
    "numeric_vars = ['BorrowerAPR', 'CreditScoreRangeLower', 'ProsperScore']\n",
    "categoric_vars = ['Term', 'LoanStatus', 'ListingCategory', 'IncomeRange']"
   ]
  },
  {
   "cell_type": "code",
   "execution_count": null,
   "metadata": {},
   "outputs": [],
   "source": [
    "# correlation plot\n",
    "plt.figure(figsize = [8, 5])\n",
    "sb.heatmap(dfx[numeric_vars].corr(), annot = True, fmt = '.3f',\n",
    "           cmap = 'vlag_r', center = 0)\n",
    "plt.show()"
   ]
  },
  {
   "cell_type": "code",
   "execution_count": null,
   "metadata": {},
   "outputs": [],
   "source": [
    "# plot matrix: sample 500 loans so that plots are clearer and\n",
    "# they render faster\n",
    "samples = np.random.choice(dfx.shape[0], 500, replace = False)\n",
    "dfx_samp = dfx.loc[samples,:]\n",
    "\n",
    "g = sb.PairGrid(data = dfx_samp, vars = numeric_vars)\n",
    "g = g.map_diag(plt.hist, bins = 20);\n",
    "g.map_offdiag(plt.scatter);"
   ]
  },
  {
   "cell_type": "code",
   "execution_count": null,
   "metadata": {},
   "outputs": [],
   "source": [
    "# plot matrix of numeric features against categorical features.\n",
    "# can use a larger sample since there are fewer plots and they're simpler\n",
    "\n",
    "samples = np.random.choice(dfx.shape[0], 2000, replace = False)\n",
    "dfx_samp = dfx.loc[samples,:]\n",
    "\n",
    "def boxgrid(x, y, **kwargs):\n",
    "    \"\"\" Quick hack for creating box plots with seaborn's PairGrid. \"\"\"\n",
    "    default_color = sb.color_palette()[0]\n",
    "    sb.boxplot(x, y, color = default_color)\n",
    "\n",
    "plt.figure(figsize = [10, 10])\n",
    "g = sb.PairGrid(data = dfx_samp, y_vars = ['BorrowerAPR', 'CreditScoreRangeLower', 'ProsperScore'], x_vars = ['Term', 'IncomeRange'],\n",
    "                size = 3, aspect = 1.5)\n",
    "g.map(boxgrid)\n",
    "plt.show();"
   ]
  },
  {
   "cell_type": "markdown",
   "metadata": {},
   "source": [
    "### Talk about some of the relationships you observed in this part of the investigation. How did the feature(s) of interest vary with other features in the dataset?\n",
    "\n",
    "> Your answer here!\n",
    "\n",
    "### Did you observe any interesting relationships between the other features (not the main feature(s) of interest)?\n",
    "\n",
    "> Your answer here!"
   ]
  },
  {
   "cell_type": "markdown",
   "metadata": {},
   "source": [
    "## Multivariate Exploration\n",
    "\n",
    "> Create plots of three or more variables to investigate your data even\n",
    "further. Make sure that your investigations are justified, and follow from\n",
    "your work in the previous sections."
   ]
  },
  {
   "cell_type": "code",
   "execution_count": null,
   "metadata": {},
   "outputs": [],
   "source": []
  },
  {
   "cell_type": "markdown",
   "metadata": {},
   "source": [
    "### Talk about some of the relationships you observed in this part of the investigation. Were there features that strengthened each other in terms of looking at your feature(s) of interest?\n",
    "\n",
    "> Your answer here!\n",
    "\n",
    "### Were there any interesting or surprising interactions between features?\n",
    "\n",
    "> Your answer here!"
   ]
  },
  {
   "cell_type": "markdown",
   "metadata": {},
   "source": [
    "> At the end of your report, make sure that you export the notebook as an\n",
    "html file from the `File > Download as... > HTML` menu. Make sure you keep\n",
    "track of where the exported file goes, so you can put it in the same folder\n",
    "as this notebook for project submission. Also, make sure you remove all of\n",
    "the quote-formatted guide notes like this one before you finish your report!"
   ]
  },
  {
   "cell_type": "code",
   "execution_count": null,
   "metadata": {},
   "outputs": [],
   "source": []
  }
 ],
 "metadata": {
  "kernelspec": {
   "display_name": "Python 3",
   "language": "python",
   "name": "python3"
  },
  "language_info": {
   "codemirror_mode": {
    "name": "ipython",
    "version": 3
   },
   "file_extension": ".py",
   "mimetype": "text/x-python",
   "name": "python",
   "nbconvert_exporter": "python",
   "pygments_lexer": "ipython3",
   "version": "3.7.4"
  }
 },
 "nbformat": 4,
 "nbformat_minor": 2
}
